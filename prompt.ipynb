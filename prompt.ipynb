{
  "cells": [
    {
      "cell_type": "markdown",
      "metadata": {
        "id": "view-in-github",
        "colab_type": "text"
      },
      "source": [
        "<a href=\"https://colab.research.google.com/github/Michael-Stout/Assignement_5_1/blob/main/prompt.ipynb\" target=\"_parent\"><img src=\"https://colab.research.google.com/assets/colab-badge.svg\" alt=\"Open In Colab\"/></a>"
      ]
    },
    {
      "cell_type": "markdown",
      "metadata": {
        "id": "lEy_9ekpELzM"
      },
      "source": [
        "### Will a Customer Accept the Coupon?\n",
        "\n",
        "**Context**\n",
        "\n",
        "Imagine driving through town and a coupon is delivered to your cell phone for a restaraunt near where you are driving. Would you accept that coupon and take a short detour to the restaraunt? Would you accept the coupon but use it on a sunbsequent trip? Would you ignore the coupon entirely? What if the coupon was for a bar instead of a restaraunt? What about a coffee house? Would you accept a bar coupon with a minor passenger in the car? What about if it was just you and your partner in the car? Would weather impact the rate of acceptance? What about the time of day?\n",
        "\n",
        "Obviously, proximity to the business is a factor on whether the coupon is delivered to the driver or not, but what are the factors that determine whether a driver accepts the coupon once it is delivered to them? How would you determine whether a driver is likely to accept a coupon?\n",
        "\n",
        "**Overview**\n",
        "\n",
        "The goal of this project is to use what you know about visualizations and probability distributions to distinguish between customers who accepted a driving coupon versus those that did not.\n",
        "\n",
        "**Data**\n",
        "\n",
        "This data comes to us from the UCI Machine Learning repository and was collected via a survey on Amazon Mechanical Turk. The survey describes different driving scenarios including the destination, current time, weather, passenger, etc., and then ask the person whether he will accept the coupon if he is the driver. Answers that the user will drive there ‘right away’ or ‘later before the coupon expires’ are labeled as ‘Y = 1’ and answers ‘no, I do not want the coupon’ are labeled as ‘Y = 0’.  There are five different types of coupons -- less expensive restaurants (under \\\\$20), coffee houses, carry out & take away, bar, and more expensive restaurants (\\\\$20 - \\\\$50)."
      ]
    },
    {
      "cell_type": "markdown",
      "metadata": {
        "id": "t5_HFfZoELzO"
      },
      "source": [
        "**Deliverables**\n",
        "\n",
        "Your final product should be a brief report that highlights the differences between customers who did and did not accept the coupons.  To explore the data you will utilize your knowledge of plotting, statistical summaries, and visualization using Python. You will publish your findings in a public facing github repository as your first portfolio piece.\n",
        "\n",
        "\n",
        "\n"
      ]
    },
    {
      "cell_type": "markdown",
      "metadata": {
        "id": "2kL9TcJTELzO"
      },
      "source": [
        "### Data Description\n",
        "Keep in mind that these values mentioned below are average values.\n",
        "\n",
        "The attributes of this data set include:\n",
        "1. User attributes\n",
        "    -  Gender: male, female\n",
        "    -  Age: below 21, 21 to 25, 26 to 30, etc.\n",
        "    -  Marital Status: single, married partner, unmarried partner, or widowed\n",
        "    -  Number of children: 0, 1, or more than 1\n",
        "    -  Education: high school, bachelors degree, associates degree, or graduate degree\n",
        "    -  Occupation: architecture & engineering, business & financial, etc.\n",
        "    -  Annual income: less than \\\\$12500, \\\\$12500 - \\\\$24999, \\\\$25000 - \\\\$37499, etc.\n",
        "    -  Number of times that he/she goes to a bar: 0, less than 1, 1 to 3, 4 to 8 or greater than 8\n",
        "    -  Number of times that he/she buys takeaway food: 0, less than 1, 1 to 3, 4 to 8 or greater\n",
        "    than 8\n",
        "    -  Number of times that he/she goes to a coffee house: 0, less than 1, 1 to 3, 4 to 8 or\n",
        "    greater than 8\n",
        "    -  Number of times that he/she eats at a restaurant with average expense less than \\\\$20 per\n",
        "    person: 0, less than 1, 1 to 3, 4 to 8 or greater than 8\n",
        "    -  Number of times that he/she goes to a bar: 0, less than 1, 1 to 3, 4 to 8 or greater than 8\n",
        "    \n",
        "\n",
        "2. Contextual attributes\n",
        "    - Driving destination: home, work, or no urgent destination\n",
        "    - Location of user, coupon and destination: we provide a map to show the geographical\n",
        "    location of the user, destination, and the venue, and we mark the distance between each\n",
        "    two places with time of driving. The user can see whether the venue is in the same\n",
        "    direction as the destination.\n",
        "    - Weather: sunny, rainy, or snowy\n",
        "    - Temperature: 30F, 55F, or 80F\n",
        "    - Time: 10AM, 2PM, or 6PM\n",
        "    - Passenger: none, partner, kid(s), or friend(s)\n",
        "\n",
        "\n",
        "3. Coupon attributes\n",
        "    - time before it expires: 2 hours or one day"
      ]
    },
    {
      "cell_type": "code",
      "execution_count": 198,
      "metadata": {
        "id": "mnBJegeQELzP"
      },
      "outputs": [],
      "source": [
        "import plotly.express as px\n",
        "import matplotlib.pyplot as plt\n",
        "import seaborn as sns\n",
        "import pandas as pd\n",
        "import numpy as np\n",
        "pd.set_option('display.max_columns', None)"
      ]
    },
    {
      "cell_type": "markdown",
      "metadata": {
        "id": "fHEAQcRpELzP"
      },
      "source": [
        "### Problems\n",
        "\n",
        "Use the prompts below to get started with your data analysis.  \n",
        "\n",
        "1. Read in the `coupons.csv` file.\n",
        "\n",
        "\n"
      ]
    },
    {
      "cell_type": "code",
      "execution_count": 199,
      "metadata": {
        "id": "ENhYXfBNELzP"
      },
      "outputs": [],
      "source": [
        "data = pd.read_csv('data/coupons.csv')"
      ]
    },
    {
      "cell_type": "code",
      "execution_count": 200,
      "metadata": {
        "id": "V75dRAH1ELzP",
        "outputId": "8ef523db-af26-4f94-910f-9cac18499c49",
        "colab": {
          "base_uri": "https://localhost:8080/",
          "height": 268
        }
      },
      "outputs": [
        {
          "output_type": "execute_result",
          "data": {
            "text/plain": [
              "       destination  passanger weather  temperature  time  \\\n",
              "0  No Urgent Place      Alone   Sunny           55   2PM   \n",
              "1  No Urgent Place  Friend(s)   Sunny           80  10AM   \n",
              "2  No Urgent Place  Friend(s)   Sunny           80  10AM   \n",
              "\n",
              "                  coupon expiration  gender age      maritalStatus  \\\n",
              "0        Restaurant(<20)         1d  Female  21  Unmarried partner   \n",
              "1           Coffee House         2h  Female  21  Unmarried partner   \n",
              "2  Carry out & Take away         2h  Female  21  Unmarried partner   \n",
              "\n",
              "   has_children                 education  occupation           income  car  \\\n",
              "0             1  Some college - no degree  Unemployed  $37500 - $49999  NaN   \n",
              "1             1  Some college - no degree  Unemployed  $37500 - $49999  NaN   \n",
              "2             1  Some college - no degree  Unemployed  $37500 - $49999  NaN   \n",
              "\n",
              "     Bar CoffeeHouse CarryAway RestaurantLessThan20 Restaurant20To50  \\\n",
              "0  never       never       NaN                  4~8              1~3   \n",
              "1  never       never       NaN                  4~8              1~3   \n",
              "2  never       never       NaN                  4~8              1~3   \n",
              "\n",
              "   toCoupon_GEQ5min  toCoupon_GEQ15min  toCoupon_GEQ25min  direction_same  \\\n",
              "0                 1                  0                  0               0   \n",
              "1                 1                  0                  0               0   \n",
              "2                 1                  1                  0               0   \n",
              "\n",
              "   direction_opp  Y  \n",
              "0              1  1  \n",
              "1              1  0  \n",
              "2              1  1  "
            ],
            "text/html": [
              "\n",
              "  <div id=\"df-0ffa79fd-5fa0-4e95-a27a-265950beaddd\" class=\"colab-df-container\">\n",
              "    <div>\n",
              "<style scoped>\n",
              "    .dataframe tbody tr th:only-of-type {\n",
              "        vertical-align: middle;\n",
              "    }\n",
              "\n",
              "    .dataframe tbody tr th {\n",
              "        vertical-align: top;\n",
              "    }\n",
              "\n",
              "    .dataframe thead th {\n",
              "        text-align: right;\n",
              "    }\n",
              "</style>\n",
              "<table border=\"1\" class=\"dataframe\">\n",
              "  <thead>\n",
              "    <tr style=\"text-align: right;\">\n",
              "      <th></th>\n",
              "      <th>destination</th>\n",
              "      <th>passanger</th>\n",
              "      <th>weather</th>\n",
              "      <th>temperature</th>\n",
              "      <th>time</th>\n",
              "      <th>coupon</th>\n",
              "      <th>expiration</th>\n",
              "      <th>gender</th>\n",
              "      <th>age</th>\n",
              "      <th>maritalStatus</th>\n",
              "      <th>has_children</th>\n",
              "      <th>education</th>\n",
              "      <th>occupation</th>\n",
              "      <th>income</th>\n",
              "      <th>car</th>\n",
              "      <th>Bar</th>\n",
              "      <th>CoffeeHouse</th>\n",
              "      <th>CarryAway</th>\n",
              "      <th>RestaurantLessThan20</th>\n",
              "      <th>Restaurant20To50</th>\n",
              "      <th>toCoupon_GEQ5min</th>\n",
              "      <th>toCoupon_GEQ15min</th>\n",
              "      <th>toCoupon_GEQ25min</th>\n",
              "      <th>direction_same</th>\n",
              "      <th>direction_opp</th>\n",
              "      <th>Y</th>\n",
              "    </tr>\n",
              "  </thead>\n",
              "  <tbody>\n",
              "    <tr>\n",
              "      <th>0</th>\n",
              "      <td>No Urgent Place</td>\n",
              "      <td>Alone</td>\n",
              "      <td>Sunny</td>\n",
              "      <td>55</td>\n",
              "      <td>2PM</td>\n",
              "      <td>Restaurant(&lt;20)</td>\n",
              "      <td>1d</td>\n",
              "      <td>Female</td>\n",
              "      <td>21</td>\n",
              "      <td>Unmarried partner</td>\n",
              "      <td>1</td>\n",
              "      <td>Some college - no degree</td>\n",
              "      <td>Unemployed</td>\n",
              "      <td>$37500 - $49999</td>\n",
              "      <td>NaN</td>\n",
              "      <td>never</td>\n",
              "      <td>never</td>\n",
              "      <td>NaN</td>\n",
              "      <td>4~8</td>\n",
              "      <td>1~3</td>\n",
              "      <td>1</td>\n",
              "      <td>0</td>\n",
              "      <td>0</td>\n",
              "      <td>0</td>\n",
              "      <td>1</td>\n",
              "      <td>1</td>\n",
              "    </tr>\n",
              "    <tr>\n",
              "      <th>1</th>\n",
              "      <td>No Urgent Place</td>\n",
              "      <td>Friend(s)</td>\n",
              "      <td>Sunny</td>\n",
              "      <td>80</td>\n",
              "      <td>10AM</td>\n",
              "      <td>Coffee House</td>\n",
              "      <td>2h</td>\n",
              "      <td>Female</td>\n",
              "      <td>21</td>\n",
              "      <td>Unmarried partner</td>\n",
              "      <td>1</td>\n",
              "      <td>Some college - no degree</td>\n",
              "      <td>Unemployed</td>\n",
              "      <td>$37500 - $49999</td>\n",
              "      <td>NaN</td>\n",
              "      <td>never</td>\n",
              "      <td>never</td>\n",
              "      <td>NaN</td>\n",
              "      <td>4~8</td>\n",
              "      <td>1~3</td>\n",
              "      <td>1</td>\n",
              "      <td>0</td>\n",
              "      <td>0</td>\n",
              "      <td>0</td>\n",
              "      <td>1</td>\n",
              "      <td>0</td>\n",
              "    </tr>\n",
              "    <tr>\n",
              "      <th>2</th>\n",
              "      <td>No Urgent Place</td>\n",
              "      <td>Friend(s)</td>\n",
              "      <td>Sunny</td>\n",
              "      <td>80</td>\n",
              "      <td>10AM</td>\n",
              "      <td>Carry out &amp; Take away</td>\n",
              "      <td>2h</td>\n",
              "      <td>Female</td>\n",
              "      <td>21</td>\n",
              "      <td>Unmarried partner</td>\n",
              "      <td>1</td>\n",
              "      <td>Some college - no degree</td>\n",
              "      <td>Unemployed</td>\n",
              "      <td>$37500 - $49999</td>\n",
              "      <td>NaN</td>\n",
              "      <td>never</td>\n",
              "      <td>never</td>\n",
              "      <td>NaN</td>\n",
              "      <td>4~8</td>\n",
              "      <td>1~3</td>\n",
              "      <td>1</td>\n",
              "      <td>1</td>\n",
              "      <td>0</td>\n",
              "      <td>0</td>\n",
              "      <td>1</td>\n",
              "      <td>1</td>\n",
              "    </tr>\n",
              "  </tbody>\n",
              "</table>\n",
              "</div>\n",
              "    <div class=\"colab-df-buttons\">\n",
              "\n",
              "  <div class=\"colab-df-container\">\n",
              "    <button class=\"colab-df-convert\" onclick=\"convertToInteractive('df-0ffa79fd-5fa0-4e95-a27a-265950beaddd')\"\n",
              "            title=\"Convert this dataframe to an interactive table.\"\n",
              "            style=\"display:none;\">\n",
              "\n",
              "  <svg xmlns=\"http://www.w3.org/2000/svg\" height=\"24px\" viewBox=\"0 -960 960 960\">\n",
              "    <path d=\"M120-120v-720h720v720H120Zm60-500h600v-160H180v160Zm220 220h160v-160H400v160Zm0 220h160v-160H400v160ZM180-400h160v-160H180v160Zm440 0h160v-160H620v160ZM180-180h160v-160H180v160Zm440 0h160v-160H620v160Z\"/>\n",
              "  </svg>\n",
              "    </button>\n",
              "\n",
              "  <style>\n",
              "    .colab-df-container {\n",
              "      display:flex;\n",
              "      gap: 12px;\n",
              "    }\n",
              "\n",
              "    .colab-df-convert {\n",
              "      background-color: #E8F0FE;\n",
              "      border: none;\n",
              "      border-radius: 50%;\n",
              "      cursor: pointer;\n",
              "      display: none;\n",
              "      fill: #1967D2;\n",
              "      height: 32px;\n",
              "      padding: 0 0 0 0;\n",
              "      width: 32px;\n",
              "    }\n",
              "\n",
              "    .colab-df-convert:hover {\n",
              "      background-color: #E2EBFA;\n",
              "      box-shadow: 0px 1px 2px rgba(60, 64, 67, 0.3), 0px 1px 3px 1px rgba(60, 64, 67, 0.15);\n",
              "      fill: #174EA6;\n",
              "    }\n",
              "\n",
              "    .colab-df-buttons div {\n",
              "      margin-bottom: 4px;\n",
              "    }\n",
              "\n",
              "    [theme=dark] .colab-df-convert {\n",
              "      background-color: #3B4455;\n",
              "      fill: #D2E3FC;\n",
              "    }\n",
              "\n",
              "    [theme=dark] .colab-df-convert:hover {\n",
              "      background-color: #434B5C;\n",
              "      box-shadow: 0px 1px 3px 1px rgba(0, 0, 0, 0.15);\n",
              "      filter: drop-shadow(0px 1px 2px rgba(0, 0, 0, 0.3));\n",
              "      fill: #FFFFFF;\n",
              "    }\n",
              "  </style>\n",
              "\n",
              "    <script>\n",
              "      const buttonEl =\n",
              "        document.querySelector('#df-0ffa79fd-5fa0-4e95-a27a-265950beaddd button.colab-df-convert');\n",
              "      buttonEl.style.display =\n",
              "        google.colab.kernel.accessAllowed ? 'block' : 'none';\n",
              "\n",
              "      async function convertToInteractive(key) {\n",
              "        const element = document.querySelector('#df-0ffa79fd-5fa0-4e95-a27a-265950beaddd');\n",
              "        const dataTable =\n",
              "          await google.colab.kernel.invokeFunction('convertToInteractive',\n",
              "                                                    [key], {});\n",
              "        if (!dataTable) return;\n",
              "\n",
              "        const docLinkHtml = 'Like what you see? Visit the ' +\n",
              "          '<a target=\"_blank\" href=https://colab.research.google.com/notebooks/data_table.ipynb>data table notebook</a>'\n",
              "          + ' to learn more about interactive tables.';\n",
              "        element.innerHTML = '';\n",
              "        dataTable['output_type'] = 'display_data';\n",
              "        await google.colab.output.renderOutput(dataTable, element);\n",
              "        const docLink = document.createElement('div');\n",
              "        docLink.innerHTML = docLinkHtml;\n",
              "        element.appendChild(docLink);\n",
              "      }\n",
              "    </script>\n",
              "  </div>\n",
              "\n",
              "\n",
              "<div id=\"df-35e0ed65-7f02-40e8-b79b-43d033d202ea\">\n",
              "  <button class=\"colab-df-quickchart\" onclick=\"quickchart('df-35e0ed65-7f02-40e8-b79b-43d033d202ea')\"\n",
              "            title=\"Suggest charts\"\n",
              "            style=\"display:none;\">\n",
              "\n",
              "<svg xmlns=\"http://www.w3.org/2000/svg\" height=\"24px\"viewBox=\"0 0 24 24\"\n",
              "     width=\"24px\">\n",
              "    <g>\n",
              "        <path d=\"M19 3H5c-1.1 0-2 .9-2 2v14c0 1.1.9 2 2 2h14c1.1 0 2-.9 2-2V5c0-1.1-.9-2-2-2zM9 17H7v-7h2v7zm4 0h-2V7h2v10zm4 0h-2v-4h2v4z\"/>\n",
              "    </g>\n",
              "</svg>\n",
              "  </button>\n",
              "\n",
              "<style>\n",
              "  .colab-df-quickchart {\n",
              "      --bg-color: #E8F0FE;\n",
              "      --fill-color: #1967D2;\n",
              "      --hover-bg-color: #E2EBFA;\n",
              "      --hover-fill-color: #174EA6;\n",
              "      --disabled-fill-color: #AAA;\n",
              "      --disabled-bg-color: #DDD;\n",
              "  }\n",
              "\n",
              "  [theme=dark] .colab-df-quickchart {\n",
              "      --bg-color: #3B4455;\n",
              "      --fill-color: #D2E3FC;\n",
              "      --hover-bg-color: #434B5C;\n",
              "      --hover-fill-color: #FFFFFF;\n",
              "      --disabled-bg-color: #3B4455;\n",
              "      --disabled-fill-color: #666;\n",
              "  }\n",
              "\n",
              "  .colab-df-quickchart {\n",
              "    background-color: var(--bg-color);\n",
              "    border: none;\n",
              "    border-radius: 50%;\n",
              "    cursor: pointer;\n",
              "    display: none;\n",
              "    fill: var(--fill-color);\n",
              "    height: 32px;\n",
              "    padding: 0;\n",
              "    width: 32px;\n",
              "  }\n",
              "\n",
              "  .colab-df-quickchart:hover {\n",
              "    background-color: var(--hover-bg-color);\n",
              "    box-shadow: 0 1px 2px rgba(60, 64, 67, 0.3), 0 1px 3px 1px rgba(60, 64, 67, 0.15);\n",
              "    fill: var(--button-hover-fill-color);\n",
              "  }\n",
              "\n",
              "  .colab-df-quickchart-complete:disabled,\n",
              "  .colab-df-quickchart-complete:disabled:hover {\n",
              "    background-color: var(--disabled-bg-color);\n",
              "    fill: var(--disabled-fill-color);\n",
              "    box-shadow: none;\n",
              "  }\n",
              "\n",
              "  .colab-df-spinner {\n",
              "    border: 2px solid var(--fill-color);\n",
              "    border-color: transparent;\n",
              "    border-bottom-color: var(--fill-color);\n",
              "    animation:\n",
              "      spin 1s steps(1) infinite;\n",
              "  }\n",
              "\n",
              "  @keyframes spin {\n",
              "    0% {\n",
              "      border-color: transparent;\n",
              "      border-bottom-color: var(--fill-color);\n",
              "      border-left-color: var(--fill-color);\n",
              "    }\n",
              "    20% {\n",
              "      border-color: transparent;\n",
              "      border-left-color: var(--fill-color);\n",
              "      border-top-color: var(--fill-color);\n",
              "    }\n",
              "    30% {\n",
              "      border-color: transparent;\n",
              "      border-left-color: var(--fill-color);\n",
              "      border-top-color: var(--fill-color);\n",
              "      border-right-color: var(--fill-color);\n",
              "    }\n",
              "    40% {\n",
              "      border-color: transparent;\n",
              "      border-right-color: var(--fill-color);\n",
              "      border-top-color: var(--fill-color);\n",
              "    }\n",
              "    60% {\n",
              "      border-color: transparent;\n",
              "      border-right-color: var(--fill-color);\n",
              "    }\n",
              "    80% {\n",
              "      border-color: transparent;\n",
              "      border-right-color: var(--fill-color);\n",
              "      border-bottom-color: var(--fill-color);\n",
              "    }\n",
              "    90% {\n",
              "      border-color: transparent;\n",
              "      border-bottom-color: var(--fill-color);\n",
              "    }\n",
              "  }\n",
              "</style>\n",
              "\n",
              "  <script>\n",
              "    async function quickchart(key) {\n",
              "      const quickchartButtonEl =\n",
              "        document.querySelector('#' + key + ' button');\n",
              "      quickchartButtonEl.disabled = true;  // To prevent multiple clicks.\n",
              "      quickchartButtonEl.classList.add('colab-df-spinner');\n",
              "      try {\n",
              "        const charts = await google.colab.kernel.invokeFunction(\n",
              "            'suggestCharts', [key], {});\n",
              "      } catch (error) {\n",
              "        console.error('Error during call to suggestCharts:', error);\n",
              "      }\n",
              "      quickchartButtonEl.classList.remove('colab-df-spinner');\n",
              "      quickchartButtonEl.classList.add('colab-df-quickchart-complete');\n",
              "    }\n",
              "    (() => {\n",
              "      let quickchartButtonEl =\n",
              "        document.querySelector('#df-35e0ed65-7f02-40e8-b79b-43d033d202ea button');\n",
              "      quickchartButtonEl.style.display =\n",
              "        google.colab.kernel.accessAllowed ? 'block' : 'none';\n",
              "    })();\n",
              "  </script>\n",
              "</div>\n",
              "    </div>\n",
              "  </div>\n"
            ],
            "application/vnd.google.colaboratory.intrinsic+json": {
              "type": "dataframe",
              "variable_name": "data"
            }
          },
          "metadata": {},
          "execution_count": 200
        }
      ],
      "source": [
        "data.head(3)"
      ]
    },
    {
      "cell_type": "code",
      "source": [
        "data.info()"
      ],
      "metadata": {
        "id": "mcvPzQdr1hce",
        "outputId": "4d27f183-5975-4813-b063-1df2157082de",
        "colab": {
          "base_uri": "https://localhost:8080/"
        }
      },
      "execution_count": 201,
      "outputs": [
        {
          "output_type": "stream",
          "name": "stdout",
          "text": [
            "<class 'pandas.core.frame.DataFrame'>\n",
            "RangeIndex: 12684 entries, 0 to 12683\n",
            "Data columns (total 26 columns):\n",
            " #   Column                Non-Null Count  Dtype \n",
            "---  ------                --------------  ----- \n",
            " 0   destination           12684 non-null  object\n",
            " 1   passanger             12684 non-null  object\n",
            " 2   weather               12684 non-null  object\n",
            " 3   temperature           12684 non-null  int64 \n",
            " 4   time                  12684 non-null  object\n",
            " 5   coupon                12684 non-null  object\n",
            " 6   expiration            12684 non-null  object\n",
            " 7   gender                12684 non-null  object\n",
            " 8   age                   12684 non-null  object\n",
            " 9   maritalStatus         12684 non-null  object\n",
            " 10  has_children          12684 non-null  int64 \n",
            " 11  education             12684 non-null  object\n",
            " 12  occupation            12684 non-null  object\n",
            " 13  income                12684 non-null  object\n",
            " 14  car                   108 non-null    object\n",
            " 15  Bar                   12577 non-null  object\n",
            " 16  CoffeeHouse           12467 non-null  object\n",
            " 17  CarryAway             12533 non-null  object\n",
            " 18  RestaurantLessThan20  12554 non-null  object\n",
            " 19  Restaurant20To50      12495 non-null  object\n",
            " 20  toCoupon_GEQ5min      12684 non-null  int64 \n",
            " 21  toCoupon_GEQ15min     12684 non-null  int64 \n",
            " 22  toCoupon_GEQ25min     12684 non-null  int64 \n",
            " 23  direction_same        12684 non-null  int64 \n",
            " 24  direction_opp         12684 non-null  int64 \n",
            " 25  Y                     12684 non-null  int64 \n",
            "dtypes: int64(8), object(18)\n",
            "memory usage: 2.5+ MB\n"
          ]
        }
      ]
    },
    {
      "cell_type": "markdown",
      "metadata": {
        "id": "kZI8gam-ELzQ"
      },
      "source": [
        "*2*. Investigate the dataset for missing or problematic data."
      ]
    },
    {
      "cell_type": "code",
      "source": [
        "# Check for columns with missing data\n",
        "missing_data = data.isnull().sum()\n",
        "print(missing_data[missing_data > 0])"
      ],
      "metadata": {
        "colab": {
          "base_uri": "https://localhost:8080/"
        },
        "id": "j-u2iJJN3yOv",
        "outputId": "d913eca9-c590-409f-ef38-3a2221156e4e"
      },
      "execution_count": 202,
      "outputs": [
        {
          "output_type": "stream",
          "name": "stdout",
          "text": [
            "car                     12576\n",
            "Bar                       107\n",
            "CoffeeHouse               217\n",
            "CarryAway                 151\n",
            "RestaurantLessThan20      130\n",
            "Restaurant20To50          189\n",
            "dtype: int64\n"
          ]
        }
      ]
    },
    {
      "cell_type": "markdown",
      "metadata": {
        "id": "UVauSi0lELzQ"
      },
      "source": [
        "3. Decide what to do about your missing data -- drop, replace, other..."
      ]
    },
    {
      "cell_type": "code",
      "source": [
        "# Drop car column as there is too much data missing\n",
        "data = data.drop('car', axis=1)"
      ],
      "metadata": {
        "id": "Qibk6DWXW3la"
      },
      "execution_count": 203,
      "outputs": []
    },
    {
      "cell_type": "code",
      "source": [
        "# Calculate the percentages of unique records with missing values\n",
        "unique_rows_missing_values = round(data.isnull().any(axis=1).mean() * 100, 1                                      )\n",
        "print(unique_rows_missing_values,\"%\")"
      ],
      "metadata": {
        "colab": {
          "base_uri": "https://localhost:8080/"
        },
        "id": "lP0uyTBFQ5d2",
        "outputId": "4e8fe62d-3667-439e-c92b-de09d15a2ca3"
      },
      "execution_count": 204,
      "outputs": [
        {
          "output_type": "stream",
          "name": "stdout",
          "text": [
            "4.8 %\n"
          ]
        }
      ]
    },
    {
      "cell_type": "code",
      "source": [
        "# Drop records with missing data as it is less than 5%\n",
        "data.dropna(inplace=True)"
      ],
      "metadata": {
        "id": "OVfktnMAQJKG"
      },
      "execution_count": 205,
      "outputs": []
    },
    {
      "cell_type": "code",
      "source": [
        "# Determine total offers\n",
        "total_offers = len(data)\n",
        "print(total_offers)"
      ],
      "metadata": {
        "colab": {
          "base_uri": "https://localhost:8080/"
        },
        "id": "3sxCxeZ7Ys-i",
        "outputId": "cc4cb15c-1754-41c4-e46c-7595c4666c2f"
      },
      "execution_count": 206,
      "outputs": [
        {
          "output_type": "stream",
          "name": "stdout",
          "text": [
            "12079\n"
          ]
        }
      ]
    },
    {
      "cell_type": "code",
      "source": [
        "# Consolodate, reconfigure and create columns for easy of use\n",
        "\n",
        "# Combine 'direction_same' and 'direction_opp' into a single column 'samedataction' with 0 as no, and 1 as yes\n",
        "data['same_direction'] = [1 if same else 0 for same, opp in zip(data['direction_same'] == 1, data['direction_opp'] == 1)]\n",
        "\n",
        "# Drop the original columns\n",
        "data.drop(['direction_same', 'direction_opp'], axis=1, inplace=True)\n",
        "\n",
        "# Combine 'toCoupon_GEQ5min', 'toCoupon_GEQ15min' & 'toCoupon_GEQ25min' into on column to_coupon_geq and assinge 5, 15 & 25 accordingly\n",
        "data['to_coupon_geq'] = [\n",
        "    25 if geq25 else 15 if geq15 else 5 if geq5 else 0\n",
        "    for geq5, geq15, geq25 in zip(\n",
        "        data['toCoupon_GEQ5min'] == 1,\n",
        "        data['toCoupon_GEQ15min'] == 1,\n",
        "        data['toCoupon_GEQ25min'] == 1\n",
        "    )\n",
        "]\n",
        "\n",
        "# Drop the original columns\n",
        "data.drop(['toCoupon_GEQ5min', 'toCoupon_GEQ15min', 'toCoupon_GEQ25min'], axis=1, inplace=True)\n",
        "\n",
        "# Create a column called professional_status to suppliment occupation information\n",
        "occupation_to_status = {\n",
        "    'blue collar': [\n",
        "        'Production Occupations', 'Building & Grounds Cleaning & Maintenance',\n",
        "        'Construction & Extraction', 'Installation Maintenance & Repair',\n",
        "        'Transportation & Material Moving', 'Protective Service',\n",
        "        'Food Preparation & Serving Related', 'Farming Fishing & Forestry',\n",
        "        'Healthcare Support'\n",
        "    ],\n",
        "    'white collar': [\n",
        "        'Education & Training & Library', 'Community & Social Services',\n",
        "        'Personal Care & Service', 'Office & Administrative Support',\n",
        "        'Architecture & Engineering', 'Healthcare Practitioners & Technical',\n",
        "        'Sales & Related', 'Management', 'Arts Design Entertainment Sports & Media',\n",
        "        'Computer & Mathematical', 'Life Physical Social Science',\n",
        "        'Legal', 'Business & Financial'\n",
        "    ],\n",
        "    'unemployed': ['Unemployed'],\n",
        "    'student': ['Student'],\n",
        "    'retired': ['Retired']\n",
        "}\n",
        "\n",
        "status_map = {occ: status for status, occs in occupation_to_status.items() for occ in occs}\n",
        "\n",
        "data['professional_status'] = data['occupation'].map(lambda x: status_map.get(x, 'other'))"
      ],
      "metadata": {
        "id": "SVC8o5NVbNlP"
      },
      "execution_count": 207,
      "outputs": []
    },
    {
      "cell_type": "code",
      "source": [
        "# Correct the spelling and rename columns for user-friendliness & standardization\n",
        "columns_to_rename = {\n",
        "    'passanger': 'passenger',\n",
        "    'maritalStatus': 'marital_status',\n",
        "    'Bar': 'monthly_bar_visits',\n",
        "    'CoffeeHouse': 'monthly_coffeehouse_visits',\n",
        "    'CarryAway': 'monthly_takeaway_visits',\n",
        "    'RestaurantLessThan20': 'monthly_restaurant_visits_lt20',\n",
        "    'Restaurant20To50': 'monthly_restaurant_visits_btw20_50',\n",
        "    'Y': 'accepted'\n",
        "}\n",
        "\n",
        "for old_name, new_name in columns_to_rename.items():\n",
        "    data.columns = data.columns.str.replace(old_name, new_name)"
      ],
      "metadata": {
        "id": "aqlFzuuYcAh7"
      },
      "execution_count": 208,
      "outputs": []
    },
    {
      "cell_type": "code",
      "source": [
        "# Map new column values for functionality\n",
        "destination_map = {\n",
        "    'No Urgent Place': 'other',\n",
        "    'Home': 'home',\n",
        "    'Work': 'work'\n",
        "}\n",
        "\n",
        "passenger_map = {\n",
        "    'Alone': 'none',\n",
        "    'Friend(s)': 'friend',\n",
        "    'Kid(s)': 'child',\n",
        "    'Partner': 'partner'\n",
        "}\n",
        "\n",
        "weather_map = {\n",
        "    'Sunny': 'sunny',\n",
        "    'Rainy': 'rainy',\n",
        "    'Snowy': 'snowy'\n",
        "}\n",
        "\n",
        "# temperature - no change\n",
        "\n",
        "# Time has been changed to a integer\n",
        "time_map = {\n",
        "    '7AM': 700,\n",
        "    '10AM': 1000,\n",
        "    '2PM': 1400,\n",
        "    '6PM': 1800,\n",
        "    '10PM': 2200\n",
        "}\n",
        "\n",
        "coupon_map = {\n",
        "    'Restaurant(<20)': 'restaurant < $20',\n",
        "    'Coffee House': 'coffeehouse',\n",
        "    'Bar': 'bar',\n",
        "    'Carry out & Take away': 'takeaway',\n",
        "    'Restaurant(20-50)': 'restaurant $20 to 50'\n",
        "}\n",
        "\n",
        "expiration_map = {\n",
        "    '2h': 2,\n",
        "    '1d': 24\n",
        "}\n",
        "\n",
        "gender_map = {\n",
        "    'Male': 'male',\n",
        "    'Female': 'female'\n",
        "}\n",
        "\n",
        "# Age has been changed to an integer\n",
        "age_int_map = {\n",
        "    'below21': 20,\n",
        "    '21': 21,\n",
        "    '26': 26,\n",
        "    '31': 31,\n",
        "    '36': 36,\n",
        "    '41': 41,\n",
        "    '46': 46,\n",
        "    '50plus': 50\n",
        "}\n",
        "\n",
        "marital_map = {\n",
        "    'Single': 'single',\n",
        "    'Married partner': 'married',\n",
        "    'Unmarried partner': 'partner',\n",
        "    'Divorced': 'divorced',\n",
        "    'Widowed': 'widowed'\n",
        "}\n",
        "\n",
        "# has_children - no change\n",
        "\n",
        "education_map = {\n",
        "    'Some High School': 1,\n",
        "    'High School Graduate': 2,\n",
        "    'Some college - no degree': 3,\n",
        "    'Associates degree': 4,\n",
        "    'Bachelors degree': 5,\n",
        "    'Graduate degree (Masters or Doctorate)': 6\n",
        "}\n",
        "\n",
        "# occupation - no change\n",
        "\n",
        "income_map = {\n",
        "    'Less than $12500': 12499,\n",
        "    '$12500 - $24999': 12500,\n",
        "    '$25000 - $37499': 25000,\n",
        "    '$37500 - $49999': 37500,\n",
        "    '$50000 - $62499': 50000,\n",
        "    '$62500 - $74999': 62500,\n",
        "    '$75000 - $87499': 75000,\n",
        "    '$87500 - $99999': 87500,\n",
        "    '$100000 or More': 100000\n",
        "}\n",
        "\n",
        "# Values for visits per month\n",
        "  #  bar\n",
        "  # coffeehouse\n",
        "  # takeaway\n",
        "  # restaurant lt20\n",
        "  # restaurant btw20_50\n",
        "\n",
        "frequency_map = {\n",
        "    'never': 0,\n",
        "    'less1': -1,\n",
        "    '1~3': 3,\n",
        "    '4~8': 8,\n",
        "    'gt8': 9\n",
        "}\n",
        "\n",
        "# accepted - no change"
      ],
      "metadata": {
        "id": "uDicqJbtcFCS"
      },
      "execution_count": 209,
      "outputs": []
    },
    {
      "cell_type": "code",
      "source": [
        "# Change values to mappings\n",
        "\n",
        "# Dictionary mapping column names to their respective mapping dictionaries\n",
        "maps = {\n",
        "    'destination': destination_map,\n",
        "    'passenger': passenger_map,\n",
        "    'weather': weather_map,\n",
        "    'time': time_map,\n",
        "    'monthly_bar_visits': frequency_map,\n",
        "    'monthly_coffeehouse_visits': frequency_map,\n",
        "    'monthly_takeaway_visits': frequency_map,\n",
        "    'monthly_restaurant_visits_lt20': frequency_map,\n",
        "    'monthly_restaurant_visits_btw20_50': frequency_map,\n",
        "    'coupon': coupon_map,\n",
        "    'expiration': expiration_map,\n",
        "    'gender': gender_map,\n",
        "    'age': age_int_map,\n",
        "    'marital_status': marital_map,\n",
        "    'education': education_map,\n",
        "    'income': income_map\n",
        "}\n",
        "\n",
        "# Loop through the dictionary and replace values in each column based on the corresponding map\n",
        "for column, map_dict in maps.items():\n",
        "    data[column] = data[column].replace(map_dict)"
      ],
      "metadata": {
        "id": "RcF0lRmdbFDJ"
      },
      "execution_count": 210,
      "outputs": []
    },
    {
      "cell_type": "markdown",
      "source": [
        "4.  What proportion of the total observations chose to accept the coupon?"
      ],
      "metadata": {
        "id": "VLXwLH4qad3U"
      }
    },
    {
      "cell_type": "code",
      "source": [
        "# Calculate the proportion of accepted\n",
        "accepted_prop = data['accepted'].mean()\n",
        "\n",
        "# Calculate the total number of accepted coupons\n",
        "total_accepteds = int(accepted_prop * total_offers)\n",
        "\n",
        "print(f\"Total number of accepted coupons: {total_accepteds} of {total_offers}\")\n",
        "print(f\"Proportion of coupon accepted: {accepted_prop:.3f}\")"
      ],
      "metadata": {
        "id": "lnROphDsxVIS",
        "outputId": "9fc9c068-0e61-47b9-bd13-699f50c5110f",
        "colab": {
          "base_uri": "https://localhost:8080/"
        }
      },
      "execution_count": 211,
      "outputs": [
        {
          "output_type": "stream",
          "name": "stdout",
          "text": [
            "Total number of accepted coupons: 6877 of 12079\n",
            "Proportion of coupon accepted: 0.569\n"
          ]
        }
      ]
    },
    {
      "cell_type": "code",
      "source": [
        "# Create a DataFrame for the horizontal bar graph\n",
        "plot_data = pd.DataFrame({\n",
        "    'Label': [''],  # Set to an empty string to remove the label\n",
        "    'Proportion': [accepted_prop]\n",
        "})\n",
        "\n",
        "# Create the horizontal bar graph using Plotly Express\n",
        "bar_plot_coupon = px.bar(plot_data, y='Label', x='Proportion',\n",
        "                         orientation='h', title=\"Proportion of Coupons Accepted\",\n",
        "                         labels={'Proportion': str(total_accepteds) + \" of \" + str(total_offers) + \" Coupons Accepted\", 'Label': ''},\n",
        "                         width=800, height=210)\n",
        "\n",
        "# Customize the bar graph\n",
        "bar_plot_coupon.update_traces(texttemplate='%{x:.3}', textposition='inside')\n",
        "bar_plot_coupon.update_layout(showlegend=False, xaxis_range=[0, 1])\n",
        "\n",
        "# Show the plot\n",
        "bar_plot_coupon.show()"
      ],
      "metadata": {
        "colab": {
          "base_uri": "https://localhost:8080/",
          "height": 247
        },
        "id": "wWhgf1oJ8Z70",
        "outputId": "b9505d8c-9647-455b-9e74-6b43bb0dacd6"
      },
      "execution_count": 212,
      "outputs": [
        {
          "output_type": "display_data",
          "data": {
            "text/html": [
              "<html>\n",
              "<head><meta charset=\"utf-8\" /></head>\n",
              "<body>\n",
              "    <div>            <script src=\"https://cdnjs.cloudflare.com/ajax/libs/mathjax/2.7.5/MathJax.js?config=TeX-AMS-MML_SVG\"></script><script type=\"text/javascript\">if (window.MathJax && window.MathJax.Hub && window.MathJax.Hub.Config) {window.MathJax.Hub.Config({SVG: {font: \"STIX-Web\"}});}</script>                <script type=\"text/javascript\">window.PlotlyConfig = {MathJaxConfig: 'local'};</script>\n",
              "        <script charset=\"utf-8\" src=\"https://cdn.plot.ly/plotly-2.24.1.min.js\"></script>                <div id=\"7cfc9446-b097-4702-86b2-e8ccc9764683\" class=\"plotly-graph-div\" style=\"height:210px; width:800px;\"></div>            <script type=\"text/javascript\">                                    window.PLOTLYENV=window.PLOTLYENV || {};                                    if (document.getElementById(\"7cfc9446-b097-4702-86b2-e8ccc9764683\")) {                    Plotly.newPlot(                        \"7cfc9446-b097-4702-86b2-e8ccc9764683\",                        [{\"alignmentgroup\":\"True\",\"hovertemplate\":\"6877 of 12079 Coupons Accepted=%{x}\\u003cbr\\u003e=%{y}\\u003cextra\\u003e\\u003c\\u002fextra\\u003e\",\"legendgroup\":\"\",\"marker\":{\"color\":\"#636efa\",\"pattern\":{\"shape\":\"\"}},\"name\":\"\",\"offsetgroup\":\"\",\"orientation\":\"h\",\"showlegend\":false,\"textposition\":\"inside\",\"x\":[0.5693352098683666],\"xaxis\":\"x\",\"y\":[\"\"],\"yaxis\":\"y\",\"type\":\"bar\",\"texttemplate\":\"%{x:.3}\"}],                        {\"template\":{\"data\":{\"histogram2dcontour\":[{\"type\":\"histogram2dcontour\",\"colorbar\":{\"outlinewidth\":0,\"ticks\":\"\"},\"colorscale\":[[0.0,\"#0d0887\"],[0.1111111111111111,\"#46039f\"],[0.2222222222222222,\"#7201a8\"],[0.3333333333333333,\"#9c179e\"],[0.4444444444444444,\"#bd3786\"],[0.5555555555555556,\"#d8576b\"],[0.6666666666666666,\"#ed7953\"],[0.7777777777777778,\"#fb9f3a\"],[0.8888888888888888,\"#fdca26\"],[1.0,\"#f0f921\"]]}],\"choropleth\":[{\"type\":\"choropleth\",\"colorbar\":{\"outlinewidth\":0,\"ticks\":\"\"}}],\"histogram2d\":[{\"type\":\"histogram2d\",\"colorbar\":{\"outlinewidth\":0,\"ticks\":\"\"},\"colorscale\":[[0.0,\"#0d0887\"],[0.1111111111111111,\"#46039f\"],[0.2222222222222222,\"#7201a8\"],[0.3333333333333333,\"#9c179e\"],[0.4444444444444444,\"#bd3786\"],[0.5555555555555556,\"#d8576b\"],[0.6666666666666666,\"#ed7953\"],[0.7777777777777778,\"#fb9f3a\"],[0.8888888888888888,\"#fdca26\"],[1.0,\"#f0f921\"]]}],\"heatmap\":[{\"type\":\"heatmap\",\"colorbar\":{\"outlinewidth\":0,\"ticks\":\"\"},\"colorscale\":[[0.0,\"#0d0887\"],[0.1111111111111111,\"#46039f\"],[0.2222222222222222,\"#7201a8\"],[0.3333333333333333,\"#9c179e\"],[0.4444444444444444,\"#bd3786\"],[0.5555555555555556,\"#d8576b\"],[0.6666666666666666,\"#ed7953\"],[0.7777777777777778,\"#fb9f3a\"],[0.8888888888888888,\"#fdca26\"],[1.0,\"#f0f921\"]]}],\"heatmapgl\":[{\"type\":\"heatmapgl\",\"colorbar\":{\"outlinewidth\":0,\"ticks\":\"\"},\"colorscale\":[[0.0,\"#0d0887\"],[0.1111111111111111,\"#46039f\"],[0.2222222222222222,\"#7201a8\"],[0.3333333333333333,\"#9c179e\"],[0.4444444444444444,\"#bd3786\"],[0.5555555555555556,\"#d8576b\"],[0.6666666666666666,\"#ed7953\"],[0.7777777777777778,\"#fb9f3a\"],[0.8888888888888888,\"#fdca26\"],[1.0,\"#f0f921\"]]}],\"contourcarpet\":[{\"type\":\"contourcarpet\",\"colorbar\":{\"outlinewidth\":0,\"ticks\":\"\"}}],\"contour\":[{\"type\":\"contour\",\"colorbar\":{\"outlinewidth\":0,\"ticks\":\"\"},\"colorscale\":[[0.0,\"#0d0887\"],[0.1111111111111111,\"#46039f\"],[0.2222222222222222,\"#7201a8\"],[0.3333333333333333,\"#9c179e\"],[0.4444444444444444,\"#bd3786\"],[0.5555555555555556,\"#d8576b\"],[0.6666666666666666,\"#ed7953\"],[0.7777777777777778,\"#fb9f3a\"],[0.8888888888888888,\"#fdca26\"],[1.0,\"#f0f921\"]]}],\"surface\":[{\"type\":\"surface\",\"colorbar\":{\"outlinewidth\":0,\"ticks\":\"\"},\"colorscale\":[[0.0,\"#0d0887\"],[0.1111111111111111,\"#46039f\"],[0.2222222222222222,\"#7201a8\"],[0.3333333333333333,\"#9c179e\"],[0.4444444444444444,\"#bd3786\"],[0.5555555555555556,\"#d8576b\"],[0.6666666666666666,\"#ed7953\"],[0.7777777777777778,\"#fb9f3a\"],[0.8888888888888888,\"#fdca26\"],[1.0,\"#f0f921\"]]}],\"mesh3d\":[{\"type\":\"mesh3d\",\"colorbar\":{\"outlinewidth\":0,\"ticks\":\"\"}}],\"scatter\":[{\"fillpattern\":{\"fillmode\":\"overlay\",\"size\":10,\"solidity\":0.2},\"type\":\"scatter\"}],\"parcoords\":[{\"type\":\"parcoords\",\"line\":{\"colorbar\":{\"outlinewidth\":0,\"ticks\":\"\"}}}],\"scatterpolargl\":[{\"type\":\"scatterpolargl\",\"marker\":{\"colorbar\":{\"outlinewidth\":0,\"ticks\":\"\"}}}],\"bar\":[{\"error_x\":{\"color\":\"#2a3f5f\"},\"error_y\":{\"color\":\"#2a3f5f\"},\"marker\":{\"line\":{\"color\":\"#E5ECF6\",\"width\":0.5},\"pattern\":{\"fillmode\":\"overlay\",\"size\":10,\"solidity\":0.2}},\"type\":\"bar\"}],\"scattergeo\":[{\"type\":\"scattergeo\",\"marker\":{\"colorbar\":{\"outlinewidth\":0,\"ticks\":\"\"}}}],\"scatterpolar\":[{\"type\":\"scatterpolar\",\"marker\":{\"colorbar\":{\"outlinewidth\":0,\"ticks\":\"\"}}}],\"histogram\":[{\"marker\":{\"pattern\":{\"fillmode\":\"overlay\",\"size\":10,\"solidity\":0.2}},\"type\":\"histogram\"}],\"scattergl\":[{\"type\":\"scattergl\",\"marker\":{\"colorbar\":{\"outlinewidth\":0,\"ticks\":\"\"}}}],\"scatter3d\":[{\"type\":\"scatter3d\",\"line\":{\"colorbar\":{\"outlinewidth\":0,\"ticks\":\"\"}},\"marker\":{\"colorbar\":{\"outlinewidth\":0,\"ticks\":\"\"}}}],\"scattermapbox\":[{\"type\":\"scattermapbox\",\"marker\":{\"colorbar\":{\"outlinewidth\":0,\"ticks\":\"\"}}}],\"scatterternary\":[{\"type\":\"scatterternary\",\"marker\":{\"colorbar\":{\"outlinewidth\":0,\"ticks\":\"\"}}}],\"scattercarpet\":[{\"type\":\"scattercarpet\",\"marker\":{\"colorbar\":{\"outlinewidth\":0,\"ticks\":\"\"}}}],\"carpet\":[{\"aaxis\":{\"endlinecolor\":\"#2a3f5f\",\"gridcolor\":\"white\",\"linecolor\":\"white\",\"minorgridcolor\":\"white\",\"startlinecolor\":\"#2a3f5f\"},\"baxis\":{\"endlinecolor\":\"#2a3f5f\",\"gridcolor\":\"white\",\"linecolor\":\"white\",\"minorgridcolor\":\"white\",\"startlinecolor\":\"#2a3f5f\"},\"type\":\"carpet\"}],\"table\":[{\"cells\":{\"fill\":{\"color\":\"#EBF0F8\"},\"line\":{\"color\":\"white\"}},\"header\":{\"fill\":{\"color\":\"#C8D4E3\"},\"line\":{\"color\":\"white\"}},\"type\":\"table\"}],\"barpolar\":[{\"marker\":{\"line\":{\"color\":\"#E5ECF6\",\"width\":0.5},\"pattern\":{\"fillmode\":\"overlay\",\"size\":10,\"solidity\":0.2}},\"type\":\"barpolar\"}],\"pie\":[{\"automargin\":true,\"type\":\"pie\"}]},\"layout\":{\"autotypenumbers\":\"strict\",\"colorway\":[\"#636efa\",\"#EF553B\",\"#00cc96\",\"#ab63fa\",\"#FFA15A\",\"#19d3f3\",\"#FF6692\",\"#B6E880\",\"#FF97FF\",\"#FECB52\"],\"font\":{\"color\":\"#2a3f5f\"},\"hovermode\":\"closest\",\"hoverlabel\":{\"align\":\"left\"},\"paper_bgcolor\":\"white\",\"plot_bgcolor\":\"#E5ECF6\",\"polar\":{\"bgcolor\":\"#E5ECF6\",\"angularaxis\":{\"gridcolor\":\"white\",\"linecolor\":\"white\",\"ticks\":\"\"},\"radialaxis\":{\"gridcolor\":\"white\",\"linecolor\":\"white\",\"ticks\":\"\"}},\"ternary\":{\"bgcolor\":\"#E5ECF6\",\"aaxis\":{\"gridcolor\":\"white\",\"linecolor\":\"white\",\"ticks\":\"\"},\"baxis\":{\"gridcolor\":\"white\",\"linecolor\":\"white\",\"ticks\":\"\"},\"caxis\":{\"gridcolor\":\"white\",\"linecolor\":\"white\",\"ticks\":\"\"}},\"coloraxis\":{\"colorbar\":{\"outlinewidth\":0,\"ticks\":\"\"}},\"colorscale\":{\"sequential\":[[0.0,\"#0d0887\"],[0.1111111111111111,\"#46039f\"],[0.2222222222222222,\"#7201a8\"],[0.3333333333333333,\"#9c179e\"],[0.4444444444444444,\"#bd3786\"],[0.5555555555555556,\"#d8576b\"],[0.6666666666666666,\"#ed7953\"],[0.7777777777777778,\"#fb9f3a\"],[0.8888888888888888,\"#fdca26\"],[1.0,\"#f0f921\"]],\"sequentialminus\":[[0.0,\"#0d0887\"],[0.1111111111111111,\"#46039f\"],[0.2222222222222222,\"#7201a8\"],[0.3333333333333333,\"#9c179e\"],[0.4444444444444444,\"#bd3786\"],[0.5555555555555556,\"#d8576b\"],[0.6666666666666666,\"#ed7953\"],[0.7777777777777778,\"#fb9f3a\"],[0.8888888888888888,\"#fdca26\"],[1.0,\"#f0f921\"]],\"diverging\":[[0,\"#8e0152\"],[0.1,\"#c51b7d\"],[0.2,\"#de77ae\"],[0.3,\"#f1b6da\"],[0.4,\"#fde0ef\"],[0.5,\"#f7f7f7\"],[0.6,\"#e6f5d0\"],[0.7,\"#b8e186\"],[0.8,\"#7fbc41\"],[0.9,\"#4d9221\"],[1,\"#276419\"]]},\"xaxis\":{\"gridcolor\":\"white\",\"linecolor\":\"white\",\"ticks\":\"\",\"title\":{\"standoff\":15},\"zerolinecolor\":\"white\",\"automargin\":true,\"zerolinewidth\":2},\"yaxis\":{\"gridcolor\":\"white\",\"linecolor\":\"white\",\"ticks\":\"\",\"title\":{\"standoff\":15},\"zerolinecolor\":\"white\",\"automargin\":true,\"zerolinewidth\":2},\"scene\":{\"xaxis\":{\"backgroundcolor\":\"#E5ECF6\",\"gridcolor\":\"white\",\"linecolor\":\"white\",\"showbackground\":true,\"ticks\":\"\",\"zerolinecolor\":\"white\",\"gridwidth\":2},\"yaxis\":{\"backgroundcolor\":\"#E5ECF6\",\"gridcolor\":\"white\",\"linecolor\":\"white\",\"showbackground\":true,\"ticks\":\"\",\"zerolinecolor\":\"white\",\"gridwidth\":2},\"zaxis\":{\"backgroundcolor\":\"#E5ECF6\",\"gridcolor\":\"white\",\"linecolor\":\"white\",\"showbackground\":true,\"ticks\":\"\",\"zerolinecolor\":\"white\",\"gridwidth\":2}},\"shapedefaults\":{\"line\":{\"color\":\"#2a3f5f\"}},\"annotationdefaults\":{\"arrowcolor\":\"#2a3f5f\",\"arrowhead\":0,\"arrowwidth\":1},\"geo\":{\"bgcolor\":\"white\",\"landcolor\":\"#E5ECF6\",\"subunitcolor\":\"white\",\"showland\":true,\"showlakes\":true,\"lakecolor\":\"white\"},\"title\":{\"x\":0.05},\"mapbox\":{\"style\":\"light\"}}},\"xaxis\":{\"anchor\":\"y\",\"domain\":[0.0,1.0],\"title\":{\"text\":\"6877 of 12079 Coupons Accepted\"},\"range\":[0,1]},\"yaxis\":{\"anchor\":\"x\",\"domain\":[0.0,1.0],\"title\":{\"text\":\"\"}},\"legend\":{\"tracegroupgap\":0},\"title\":{\"text\":\"Proportion of Coupons Accepted\"},\"barmode\":\"relative\",\"height\":210,\"width\":800,\"showlegend\":false},                        {\"responsive\": true}                    ).then(function(){\n",
              "                            \n",
              "var gd = document.getElementById('7cfc9446-b097-4702-86b2-e8ccc9764683');\n",
              "var x = new MutationObserver(function (mutations, observer) {{\n",
              "        var display = window.getComputedStyle(gd).display;\n",
              "        if (!display || display === 'none') {{\n",
              "            console.log([gd, 'removed!']);\n",
              "            Plotly.purge(gd);\n",
              "            observer.disconnect();\n",
              "        }}\n",
              "}});\n",
              "\n",
              "// Listen for the removal of the full notebook cells\n",
              "var notebookContainer = gd.closest('#notebook-container');\n",
              "if (notebookContainer) {{\n",
              "    x.observe(notebookContainer, {childList: true});\n",
              "}}\n",
              "\n",
              "// Listen for the clearing of the current output cell\n",
              "var outputEl = gd.closest('.output');\n",
              "if (outputEl) {{\n",
              "    x.observe(outputEl, {childList: true});\n",
              "}}\n",
              "\n",
              "                        })                };                            </script>        </div>\n",
              "</body>\n",
              "</html>"
            ]
          },
          "metadata": {}
        }
      ]
    },
    {
      "cell_type": "markdown",
      "metadata": {
        "id": "GxvlKxoJELzR"
      },
      "source": [
        "*5*. Use a bar plot to visualize the `coupon` column."
      ]
    },
    {
      "cell_type": "code",
      "source": [
        "# Calculate the total counts for each coupon category\n",
        "total_counts = data['coupon'].value_counts().reset_index()\n",
        "total_counts.columns = ['coupon', 'Total']\n",
        "\n",
        "# Calculate the count of accepted=1 for each coupon category\n",
        "accepted_counts = data[data['accepted'] == 1]['coupon'].value_counts().reset_index()\n",
        "accepted_counts.columns = ['coupon', 'Accepted']\n",
        "\n",
        "# Merge the total and accepted counts on the 'coupon' column\n",
        "merged_data = pd.merge(total_counts, accepted_counts, on='coupon', how='left').fillna(0)\n",
        "\n",
        "# Calculate the proportion of accepted coupons\n",
        "merged_data['Proportion'] = merged_data['Accepted'] / merged_data['Total']\n",
        "\n",
        "# Format the text to show both the count of accepted coupons and the proportion\n",
        "merged_data['Text'] = merged_data.apply(lambda row: f\"{int(row['Accepted'])} of {int(row['Total'])} ({row['Proportion']:.3})\", axis=1)\n",
        "\n",
        "merged_data = merged_data.sort_values(by='Proportion', ascending=False)\n",
        "\n",
        "# Create the bar graph using Plotly Express\n",
        "bar_plot_coupon = px.bar(merged_data, x='coupon', y='Proportion', color='coupon',\n",
        "             title=\"Acceptance Count & Proportion of Each Coupon\",\n",
        "             labels={'coupon': 'Coupon Category', 'Proportion': 'Proportion Accepted'},\n",
        "             text='Text')\n",
        "\n",
        "bar_plot_coupon.update_traces(hovertemplate='<b>%{x}</b><br>Total Offered: %{customdata[1]}<br>Accepted: %{customdata[0]}<br>Proportion: %{y:.2}',\n",
        "                  textfont_size=18)\n",
        "\n",
        "bar_plot_coupon.update_layout(\n",
        "    xaxis_title=\"Coupon Category\",\n",
        "    yaxis_title=\"Proportion Accepted\",\n",
        "    yaxis=dict(tickformat='.0', range=[0, 1]),\n",
        "    xaxis=dict(tickfont=dict(size=18)),\n",
        "    showlegend=False\n",
        ")\n",
        "\n",
        "# Show the plot\n",
        "bar_plot_coupon.show()"
      ],
      "metadata": {
        "colab": {
          "base_uri": "https://localhost:8080/",
          "height": 542
        },
        "id": "vGmCXqsv4_kc",
        "outputId": "73935136-1e06-49de-d3ae-0fa361d83d6d"
      },
      "execution_count": 213,
      "outputs": [
        {
          "output_type": "display_data",
          "data": {
            "text/html": [
              "<html>\n",
              "<head><meta charset=\"utf-8\" /></head>\n",
              "<body>\n",
              "    <div>            <script src=\"https://cdnjs.cloudflare.com/ajax/libs/mathjax/2.7.5/MathJax.js?config=TeX-AMS-MML_SVG\"></script><script type=\"text/javascript\">if (window.MathJax && window.MathJax.Hub && window.MathJax.Hub.Config) {window.MathJax.Hub.Config({SVG: {font: \"STIX-Web\"}});}</script>                <script type=\"text/javascript\">window.PlotlyConfig = {MathJaxConfig: 'local'};</script>\n",
              "        <script charset=\"utf-8\" src=\"https://cdn.plot.ly/plotly-2.24.1.min.js\"></script>                <div id=\"cf30b9e3-b211-4503-8cb3-2d2457692673\" class=\"plotly-graph-div\" style=\"height:525px; width:100%;\"></div>            <script type=\"text/javascript\">                                    window.PLOTLYENV=window.PLOTLYENV || {};                                    if (document.getElementById(\"cf30b9e3-b211-4503-8cb3-2d2457692673\")) {                    Plotly.newPlot(                        \"cf30b9e3-b211-4503-8cb3-2d2457692673\",                        [{\"alignmentgroup\":\"True\",\"hovertemplate\":\"\\u003cb\\u003e%{x}\\u003c\\u002fb\\u003e\\u003cbr\\u003eTotal Offered: %{customdata[1]}\\u003cbr\\u003eAccepted: %{customdata[0]}\\u003cbr\\u003eProportion: %{y:.2}\",\"legendgroup\":\"takeaway\",\"marker\":{\"color\":\"#636efa\",\"pattern\":{\"shape\":\"\"}},\"name\":\"takeaway\",\"offsetgroup\":\"takeaway\",\"orientation\":\"v\",\"showlegend\":true,\"text\":[\"1682 of 2280 (0.738)\"],\"textposition\":\"auto\",\"x\":[\"takeaway\"],\"xaxis\":\"x\",\"y\":[0.737719298245614],\"yaxis\":\"y\",\"type\":\"bar\",\"textfont\":{\"size\":18}},{\"alignmentgroup\":\"True\",\"hovertemplate\":\"\\u003cb\\u003e%{x}\\u003c\\u002fb\\u003e\\u003cbr\\u003eTotal Offered: %{customdata[1]}\\u003cbr\\u003eAccepted: %{customdata[0]}\\u003cbr\\u003eProportion: %{y:.2}\",\"legendgroup\":\"restaurant \\u003c $20\",\"marker\":{\"color\":\"#EF553B\",\"pattern\":{\"shape\":\"\"}},\"name\":\"restaurant \\u003c $20\",\"offsetgroup\":\"restaurant \\u003c $20\",\"orientation\":\"v\",\"showlegend\":true,\"text\":[\"1881 of 2653 (0.709)\"],\"textposition\":\"auto\",\"x\":[\"restaurant \\u003c $20\"],\"xaxis\":\"x\",\"y\":[0.7090086694308331],\"yaxis\":\"y\",\"type\":\"bar\",\"textfont\":{\"size\":18}},{\"alignmentgroup\":\"True\",\"hovertemplate\":\"\\u003cb\\u003e%{x}\\u003c\\u002fb\\u003e\\u003cbr\\u003eTotal Offered: %{customdata[1]}\\u003cbr\\u003eAccepted: %{customdata[0]}\\u003cbr\\u003eProportion: %{y:.2}\",\"legendgroup\":\"coffeehouse\",\"marker\":{\"color\":\"#00cc96\",\"pattern\":{\"shape\":\"\"}},\"name\":\"coffeehouse\",\"offsetgroup\":\"coffeehouse\",\"orientation\":\"v\",\"showlegend\":true,\"text\":[\"1894 of 3816 (0.496)\"],\"textposition\":\"auto\",\"x\":[\"coffeehouse\"],\"xaxis\":\"x\",\"y\":[0.49633123689727465],\"yaxis\":\"y\",\"type\":\"bar\",\"textfont\":{\"size\":18}},{\"alignmentgroup\":\"True\",\"hovertemplate\":\"\\u003cb\\u003e%{x}\\u003c\\u002fb\\u003e\\u003cbr\\u003eTotal Offered: %{customdata[1]}\\u003cbr\\u003eAccepted: %{customdata[0]}\\u003cbr\\u003eProportion: %{y:.2}\",\"legendgroup\":\"restaurant $20 to 50\",\"marker\":{\"color\":\"#ab63fa\",\"pattern\":{\"shape\":\"\"}},\"name\":\"restaurant $20 to 50\",\"offsetgroup\":\"restaurant $20 to 50\",\"orientation\":\"v\",\"showlegend\":true,\"text\":[\"632 of 1417 (0.446)\"],\"textposition\":\"auto\",\"x\":[\"restaurant $20 to 50\"],\"xaxis\":\"x\",\"y\":[0.44601270289343686],\"yaxis\":\"y\",\"type\":\"bar\",\"textfont\":{\"size\":18}},{\"alignmentgroup\":\"True\",\"hovertemplate\":\"\\u003cb\\u003e%{x}\\u003c\\u002fb\\u003e\\u003cbr\\u003eTotal Offered: %{customdata[1]}\\u003cbr\\u003eAccepted: %{customdata[0]}\\u003cbr\\u003eProportion: %{y:.2}\",\"legendgroup\":\"bar\",\"marker\":{\"color\":\"#FFA15A\",\"pattern\":{\"shape\":\"\"}},\"name\":\"bar\",\"offsetgroup\":\"bar\",\"orientation\":\"v\",\"showlegend\":true,\"text\":[\"788 of 1913 (0.412)\"],\"textposition\":\"auto\",\"x\":[\"bar\"],\"xaxis\":\"x\",\"y\":[0.41191845269210664],\"yaxis\":\"y\",\"type\":\"bar\",\"textfont\":{\"size\":18}}],                        {\"template\":{\"data\":{\"histogram2dcontour\":[{\"type\":\"histogram2dcontour\",\"colorbar\":{\"outlinewidth\":0,\"ticks\":\"\"},\"colorscale\":[[0.0,\"#0d0887\"],[0.1111111111111111,\"#46039f\"],[0.2222222222222222,\"#7201a8\"],[0.3333333333333333,\"#9c179e\"],[0.4444444444444444,\"#bd3786\"],[0.5555555555555556,\"#d8576b\"],[0.6666666666666666,\"#ed7953\"],[0.7777777777777778,\"#fb9f3a\"],[0.8888888888888888,\"#fdca26\"],[1.0,\"#f0f921\"]]}],\"choropleth\":[{\"type\":\"choropleth\",\"colorbar\":{\"outlinewidth\":0,\"ticks\":\"\"}}],\"histogram2d\":[{\"type\":\"histogram2d\",\"colorbar\":{\"outlinewidth\":0,\"ticks\":\"\"},\"colorscale\":[[0.0,\"#0d0887\"],[0.1111111111111111,\"#46039f\"],[0.2222222222222222,\"#7201a8\"],[0.3333333333333333,\"#9c179e\"],[0.4444444444444444,\"#bd3786\"],[0.5555555555555556,\"#d8576b\"],[0.6666666666666666,\"#ed7953\"],[0.7777777777777778,\"#fb9f3a\"],[0.8888888888888888,\"#fdca26\"],[1.0,\"#f0f921\"]]}],\"heatmap\":[{\"type\":\"heatmap\",\"colorbar\":{\"outlinewidth\":0,\"ticks\":\"\"},\"colorscale\":[[0.0,\"#0d0887\"],[0.1111111111111111,\"#46039f\"],[0.2222222222222222,\"#7201a8\"],[0.3333333333333333,\"#9c179e\"],[0.4444444444444444,\"#bd3786\"],[0.5555555555555556,\"#d8576b\"],[0.6666666666666666,\"#ed7953\"],[0.7777777777777778,\"#fb9f3a\"],[0.8888888888888888,\"#fdca26\"],[1.0,\"#f0f921\"]]}],\"heatmapgl\":[{\"type\":\"heatmapgl\",\"colorbar\":{\"outlinewidth\":0,\"ticks\":\"\"},\"colorscale\":[[0.0,\"#0d0887\"],[0.1111111111111111,\"#46039f\"],[0.2222222222222222,\"#7201a8\"],[0.3333333333333333,\"#9c179e\"],[0.4444444444444444,\"#bd3786\"],[0.5555555555555556,\"#d8576b\"],[0.6666666666666666,\"#ed7953\"],[0.7777777777777778,\"#fb9f3a\"],[0.8888888888888888,\"#fdca26\"],[1.0,\"#f0f921\"]]}],\"contourcarpet\":[{\"type\":\"contourcarpet\",\"colorbar\":{\"outlinewidth\":0,\"ticks\":\"\"}}],\"contour\":[{\"type\":\"contour\",\"colorbar\":{\"outlinewidth\":0,\"ticks\":\"\"},\"colorscale\":[[0.0,\"#0d0887\"],[0.1111111111111111,\"#46039f\"],[0.2222222222222222,\"#7201a8\"],[0.3333333333333333,\"#9c179e\"],[0.4444444444444444,\"#bd3786\"],[0.5555555555555556,\"#d8576b\"],[0.6666666666666666,\"#ed7953\"],[0.7777777777777778,\"#fb9f3a\"],[0.8888888888888888,\"#fdca26\"],[1.0,\"#f0f921\"]]}],\"surface\":[{\"type\":\"surface\",\"colorbar\":{\"outlinewidth\":0,\"ticks\":\"\"},\"colorscale\":[[0.0,\"#0d0887\"],[0.1111111111111111,\"#46039f\"],[0.2222222222222222,\"#7201a8\"],[0.3333333333333333,\"#9c179e\"],[0.4444444444444444,\"#bd3786\"],[0.5555555555555556,\"#d8576b\"],[0.6666666666666666,\"#ed7953\"],[0.7777777777777778,\"#fb9f3a\"],[0.8888888888888888,\"#fdca26\"],[1.0,\"#f0f921\"]]}],\"mesh3d\":[{\"type\":\"mesh3d\",\"colorbar\":{\"outlinewidth\":0,\"ticks\":\"\"}}],\"scatter\":[{\"fillpattern\":{\"fillmode\":\"overlay\",\"size\":10,\"solidity\":0.2},\"type\":\"scatter\"}],\"parcoords\":[{\"type\":\"parcoords\",\"line\":{\"colorbar\":{\"outlinewidth\":0,\"ticks\":\"\"}}}],\"scatterpolargl\":[{\"type\":\"scatterpolargl\",\"marker\":{\"colorbar\":{\"outlinewidth\":0,\"ticks\":\"\"}}}],\"bar\":[{\"error_x\":{\"color\":\"#2a3f5f\"},\"error_y\":{\"color\":\"#2a3f5f\"},\"marker\":{\"line\":{\"color\":\"#E5ECF6\",\"width\":0.5},\"pattern\":{\"fillmode\":\"overlay\",\"size\":10,\"solidity\":0.2}},\"type\":\"bar\"}],\"scattergeo\":[{\"type\":\"scattergeo\",\"marker\":{\"colorbar\":{\"outlinewidth\":0,\"ticks\":\"\"}}}],\"scatterpolar\":[{\"type\":\"scatterpolar\",\"marker\":{\"colorbar\":{\"outlinewidth\":0,\"ticks\":\"\"}}}],\"histogram\":[{\"marker\":{\"pattern\":{\"fillmode\":\"overlay\",\"size\":10,\"solidity\":0.2}},\"type\":\"histogram\"}],\"scattergl\":[{\"type\":\"scattergl\",\"marker\":{\"colorbar\":{\"outlinewidth\":0,\"ticks\":\"\"}}}],\"scatter3d\":[{\"type\":\"scatter3d\",\"line\":{\"colorbar\":{\"outlinewidth\":0,\"ticks\":\"\"}},\"marker\":{\"colorbar\":{\"outlinewidth\":0,\"ticks\":\"\"}}}],\"scattermapbox\":[{\"type\":\"scattermapbox\",\"marker\":{\"colorbar\":{\"outlinewidth\":0,\"ticks\":\"\"}}}],\"scatterternary\":[{\"type\":\"scatterternary\",\"marker\":{\"colorbar\":{\"outlinewidth\":0,\"ticks\":\"\"}}}],\"scattercarpet\":[{\"type\":\"scattercarpet\",\"marker\":{\"colorbar\":{\"outlinewidth\":0,\"ticks\":\"\"}}}],\"carpet\":[{\"aaxis\":{\"endlinecolor\":\"#2a3f5f\",\"gridcolor\":\"white\",\"linecolor\":\"white\",\"minorgridcolor\":\"white\",\"startlinecolor\":\"#2a3f5f\"},\"baxis\":{\"endlinecolor\":\"#2a3f5f\",\"gridcolor\":\"white\",\"linecolor\":\"white\",\"minorgridcolor\":\"white\",\"startlinecolor\":\"#2a3f5f\"},\"type\":\"carpet\"}],\"table\":[{\"cells\":{\"fill\":{\"color\":\"#EBF0F8\"},\"line\":{\"color\":\"white\"}},\"header\":{\"fill\":{\"color\":\"#C8D4E3\"},\"line\":{\"color\":\"white\"}},\"type\":\"table\"}],\"barpolar\":[{\"marker\":{\"line\":{\"color\":\"#E5ECF6\",\"width\":0.5},\"pattern\":{\"fillmode\":\"overlay\",\"size\":10,\"solidity\":0.2}},\"type\":\"barpolar\"}],\"pie\":[{\"automargin\":true,\"type\":\"pie\"}]},\"layout\":{\"autotypenumbers\":\"strict\",\"colorway\":[\"#636efa\",\"#EF553B\",\"#00cc96\",\"#ab63fa\",\"#FFA15A\",\"#19d3f3\",\"#FF6692\",\"#B6E880\",\"#FF97FF\",\"#FECB52\"],\"font\":{\"color\":\"#2a3f5f\"},\"hovermode\":\"closest\",\"hoverlabel\":{\"align\":\"left\"},\"paper_bgcolor\":\"white\",\"plot_bgcolor\":\"#E5ECF6\",\"polar\":{\"bgcolor\":\"#E5ECF6\",\"angularaxis\":{\"gridcolor\":\"white\",\"linecolor\":\"white\",\"ticks\":\"\"},\"radialaxis\":{\"gridcolor\":\"white\",\"linecolor\":\"white\",\"ticks\":\"\"}},\"ternary\":{\"bgcolor\":\"#E5ECF6\",\"aaxis\":{\"gridcolor\":\"white\",\"linecolor\":\"white\",\"ticks\":\"\"},\"baxis\":{\"gridcolor\":\"white\",\"linecolor\":\"white\",\"ticks\":\"\"},\"caxis\":{\"gridcolor\":\"white\",\"linecolor\":\"white\",\"ticks\":\"\"}},\"coloraxis\":{\"colorbar\":{\"outlinewidth\":0,\"ticks\":\"\"}},\"colorscale\":{\"sequential\":[[0.0,\"#0d0887\"],[0.1111111111111111,\"#46039f\"],[0.2222222222222222,\"#7201a8\"],[0.3333333333333333,\"#9c179e\"],[0.4444444444444444,\"#bd3786\"],[0.5555555555555556,\"#d8576b\"],[0.6666666666666666,\"#ed7953\"],[0.7777777777777778,\"#fb9f3a\"],[0.8888888888888888,\"#fdca26\"],[1.0,\"#f0f921\"]],\"sequentialminus\":[[0.0,\"#0d0887\"],[0.1111111111111111,\"#46039f\"],[0.2222222222222222,\"#7201a8\"],[0.3333333333333333,\"#9c179e\"],[0.4444444444444444,\"#bd3786\"],[0.5555555555555556,\"#d8576b\"],[0.6666666666666666,\"#ed7953\"],[0.7777777777777778,\"#fb9f3a\"],[0.8888888888888888,\"#fdca26\"],[1.0,\"#f0f921\"]],\"diverging\":[[0,\"#8e0152\"],[0.1,\"#c51b7d\"],[0.2,\"#de77ae\"],[0.3,\"#f1b6da\"],[0.4,\"#fde0ef\"],[0.5,\"#f7f7f7\"],[0.6,\"#e6f5d0\"],[0.7,\"#b8e186\"],[0.8,\"#7fbc41\"],[0.9,\"#4d9221\"],[1,\"#276419\"]]},\"xaxis\":{\"gridcolor\":\"white\",\"linecolor\":\"white\",\"ticks\":\"\",\"title\":{\"standoff\":15},\"zerolinecolor\":\"white\",\"automargin\":true,\"zerolinewidth\":2},\"yaxis\":{\"gridcolor\":\"white\",\"linecolor\":\"white\",\"ticks\":\"\",\"title\":{\"standoff\":15},\"zerolinecolor\":\"white\",\"automargin\":true,\"zerolinewidth\":2},\"scene\":{\"xaxis\":{\"backgroundcolor\":\"#E5ECF6\",\"gridcolor\":\"white\",\"linecolor\":\"white\",\"showbackground\":true,\"ticks\":\"\",\"zerolinecolor\":\"white\",\"gridwidth\":2},\"yaxis\":{\"backgroundcolor\":\"#E5ECF6\",\"gridcolor\":\"white\",\"linecolor\":\"white\",\"showbackground\":true,\"ticks\":\"\",\"zerolinecolor\":\"white\",\"gridwidth\":2},\"zaxis\":{\"backgroundcolor\":\"#E5ECF6\",\"gridcolor\":\"white\",\"linecolor\":\"white\",\"showbackground\":true,\"ticks\":\"\",\"zerolinecolor\":\"white\",\"gridwidth\":2}},\"shapedefaults\":{\"line\":{\"color\":\"#2a3f5f\"}},\"annotationdefaults\":{\"arrowcolor\":\"#2a3f5f\",\"arrowhead\":0,\"arrowwidth\":1},\"geo\":{\"bgcolor\":\"white\",\"landcolor\":\"#E5ECF6\",\"subunitcolor\":\"white\",\"showland\":true,\"showlakes\":true,\"lakecolor\":\"white\"},\"title\":{\"x\":0.05},\"mapbox\":{\"style\":\"light\"}}},\"xaxis\":{\"anchor\":\"y\",\"domain\":[0.0,1.0],\"title\":{\"text\":\"Coupon Category\"},\"categoryorder\":\"array\",\"categoryarray\":[\"takeaway\",\"restaurant \\u003c $20\",\"coffeehouse\",\"restaurant $20 to 50\",\"bar\"],\"tickfont\":{\"size\":18}},\"yaxis\":{\"anchor\":\"x\",\"domain\":[0.0,1.0],\"title\":{\"text\":\"Proportion Accepted\"},\"tickformat\":\".0\",\"range\":[0,1]},\"legend\":{\"title\":{\"text\":\"Coupon Category\"},\"tracegroupgap\":0},\"title\":{\"text\":\"Acceptance Count & Proportion of Each Coupon\"},\"barmode\":\"relative\",\"showlegend\":false},                        {\"responsive\": true}                    ).then(function(){\n",
              "                            \n",
              "var gd = document.getElementById('cf30b9e3-b211-4503-8cb3-2d2457692673');\n",
              "var x = new MutationObserver(function (mutations, observer) {{\n",
              "        var display = window.getComputedStyle(gd).display;\n",
              "        if (!display || display === 'none') {{\n",
              "            console.log([gd, 'removed!']);\n",
              "            Plotly.purge(gd);\n",
              "            observer.disconnect();\n",
              "        }}\n",
              "}});\n",
              "\n",
              "// Listen for the removal of the full notebook cells\n",
              "var notebookContainer = gd.closest('#notebook-container');\n",
              "if (notebookContainer) {{\n",
              "    x.observe(notebookContainer, {childList: true});\n",
              "}}\n",
              "\n",
              "// Listen for the clearing of the current output cell\n",
              "var outputEl = gd.closest('.output');\n",
              "if (outputEl) {{\n",
              "    x.observe(outputEl, {childList: true});\n",
              "}}\n",
              "\n",
              "                        })                };                            </script>        </div>\n",
              "</body>\n",
              "</html>"
            ]
          },
          "metadata": {}
        }
      ]
    },
    {
      "cell_type": "markdown",
      "metadata": {
        "id": "H_kRK7CaELzR"
      },
      "source": [
        "6. Use a histogram to visualize the temperature column."
      ]
    },
    {
      "cell_type": "code",
      "source": [
        "# Group by temperature and accepted, and count the number of coupons\n",
        "coupon_counts = data.groupby(['temperature', 'accepted']).size().unstack()\n",
        "\n",
        "# Calculate the total offered coupons for each temperature\n",
        "total_offered = data.groupby('temperature').size()\n",
        "\n",
        "# Calculate the proportion of accepted coupons for each temperature\n",
        "proportion_accepted = coupon_counts[1] / total_offered\n",
        "\n",
        "# Create the histogram\n",
        "ax = coupon_counts.plot(kind='bar', stacked=True, figsize=(10, 6),\n",
        "                        color=['#FF7777', '#77ff77'], legend=False)\n",
        "\n",
        "# Rotate x-axis labels to be horizontal\n",
        "plt.xticks(rotation=0)\n",
        "\n",
        "# Add the total offered coupons and proportion accepted at the top of each bar\n",
        "for i, temp in enumerate(coupon_counts.index):\n",
        "    total = total_offered[temp]\n",
        "    accepted = coupon_counts.loc[temp, 1] if 1 in coupon_counts.columns else 0\n",
        "    prop = proportion_accepted[temp] if 1 in coupon_counts.columns else 0\n",
        "    ax.text(i, total, f'\\n\\n{total}\\n\\n{accepted} Accepted\\n{prop:.3f}',\n",
        "            ha='center', va='center_baseline')\n",
        "\n",
        "# Add labels and title\n",
        "ax.set_xlabel('°F')\n",
        "ax.set_ylabel('Number of Coupons')\n",
        "ax.set_title('Coupons Offered by Temperature')\n",
        "\n",
        "plt.tight_layout()\n",
        "\n",
        "plt.savefig('images/hist_temperature.png')\n",
        "\n",
        "plt.show()"
      ],
      "metadata": {
        "colab": {
          "base_uri": "https://localhost:8080/",
          "height": 407
        },
        "id": "D3VITJr7kdQZ",
        "outputId": "ac14fe3a-11d3-4a22-fa75-761b20030d04"
      },
      "execution_count": 214,
      "outputs": [
        {
          "output_type": "display_data",
          "data": {
            "text/plain": [
              "<Figure size 1000x600 with 1 Axes>"
            ],
            "image/png": "[encoded data removed]"
          },
          "metadata": {}
        }
      ]
    },
    {
      "cell_type": "markdown",
      "metadata": {
        "id": "nDUPVznhELzR"
      },
      "source": [
        "**Investigating the Bar Coupons**\n",
        "\n",
        "Now, we will lead you through an exploration of just the bar related coupons.  \n",
        "\n",
        "1. Create a new `DataFrame` that contains just the bar coupons.\n"
      ]
    },
    {
      "cell_type": "code",
      "execution_count": 215,
      "metadata": {
        "id": "ALir57lvELzR"
      },
      "outputs": [],
      "source": [
        "# Create a bar coupon column dataframe\n",
        "bar_df = data.loc[data['coupon'] == 'bar']"
      ]
    },
    {
      "cell_type": "markdown",
      "metadata": {
        "id": "Aoupbxl_ELzR"
      },
      "source": [
        "**2**. What proportion of bar coupons were accepted?"
      ]
    },
    {
      "cell_type": "code",
      "source": [
        "# Calculate total bar coupons offered\n",
        "total_bar_coupons = len(bar_df)\n",
        "\n",
        "# Calculate proportion accepted\n",
        "proportion_accepted = bar_df['accepted'].mean()\n",
        "\n",
        "# Calculate total bar coupons accepted\n",
        "total_bar_accepted = int(proportion_accepted * total_bar_coupons)\n",
        "\n",
        "\n",
        "# Create a DataFrame for the horizontal bar graph\n",
        "plot_data = pd.DataFrame({\n",
        "    'Label': [''],  # Set to an empty string to remove the label\n",
        "    'Proportion': [proportion_accepted]\n",
        "})\n",
        "\n",
        "# Create the horizontal bar graph using Plotly Express\n",
        "bar_plot_coupon = px.bar(plot_data, y='Label', x='Proportion',\n",
        "                         orientation='h', title=\"Proportion of Bar Coupons Accepted\",\n",
        "                         labels={'Proportion': str(total_bar_accepted) + \" of \" + str(total_bar_coupons) + \" Bar Coupons Accepted\", 'Label': ''},\n",
        "                         width=800, height=210)\n",
        "\n",
        "# Customize the bar graph\n",
        "bar_plot_coupon.update_traces(texttemplate='%{x:.3f}', textposition='inside')\n",
        "bar_plot_coupon.update_layout(showlegend=False, xaxis_range=[0, 1])\n",
        "\n",
        "# Show the plot\n",
        "bar_plot_coupon.show()"
      ],
      "metadata": {
        "colab": {
          "base_uri": "https://localhost:8080/",
          "height": 247
        },
        "id": "dbwhuFH2EpUY",
        "outputId": "6d366f0e-b197-412c-ac4c-d2ab70e57aeb"
      },
      "execution_count": 216,
      "outputs": [
        {
          "output_type": "display_data",
          "data": {
            "text/html": [
              "<html>\n",
              "<head><meta charset=\"utf-8\" /></head>\n",
              "<body>\n",
              "    <div>            <script src=\"https://cdnjs.cloudflare.com/ajax/libs/mathjax/2.7.5/MathJax.js?config=TeX-AMS-MML_SVG\"></script><script type=\"text/javascript\">if (window.MathJax && window.MathJax.Hub && window.MathJax.Hub.Config) {window.MathJax.Hub.Config({SVG: {font: \"STIX-Web\"}});}</script>                <script type=\"text/javascript\">window.PlotlyConfig = {MathJaxConfig: 'local'};</script>\n",
              "        <script charset=\"utf-8\" src=\"https://cdn.plot.ly/plotly-2.24.1.min.js\"></script>                <div id=\"b448a987-e9e4-4f91-88f3-16b63a0fc501\" class=\"plotly-graph-div\" style=\"height:210px; width:800px;\"></div>            <script type=\"text/javascript\">                                    window.PLOTLYENV=window.PLOTLYENV || {};                                    if (document.getElementById(\"b448a987-e9e4-4f91-88f3-16b63a0fc501\")) {                    Plotly.newPlot(                        \"b448a987-e9e4-4f91-88f3-16b63a0fc501\",                        [{\"alignmentgroup\":\"True\",\"hovertemplate\":\"788 of 1913 Bar Coupons Accepted=%{x}\\u003cbr\\u003e=%{y}\\u003cextra\\u003e\\u003c\\u002fextra\\u003e\",\"legendgroup\":\"\",\"marker\":{\"color\":\"#636efa\",\"pattern\":{\"shape\":\"\"}},\"name\":\"\",\"offsetgroup\":\"\",\"orientation\":\"h\",\"showlegend\":false,\"textposition\":\"inside\",\"x\":[0.41191845269210664],\"xaxis\":\"x\",\"y\":[\"\"],\"yaxis\":\"y\",\"type\":\"bar\",\"texttemplate\":\"%{x:.3f}\"}],                        {\"template\":{\"data\":{\"histogram2dcontour\":[{\"type\":\"histogram2dcontour\",\"colorbar\":{\"outlinewidth\":0,\"ticks\":\"\"},\"colorscale\":[[0.0,\"#0d0887\"],[0.1111111111111111,\"#46039f\"],[0.2222222222222222,\"#7201a8\"],[0.3333333333333333,\"#9c179e\"],[0.4444444444444444,\"#bd3786\"],[0.5555555555555556,\"#d8576b\"],[0.6666666666666666,\"#ed7953\"],[0.7777777777777778,\"#fb9f3a\"],[0.8888888888888888,\"#fdca26\"],[1.0,\"#f0f921\"]]}],\"choropleth\":[{\"type\":\"choropleth\",\"colorbar\":{\"outlinewidth\":0,\"ticks\":\"\"}}],\"histogram2d\":[{\"type\":\"histogram2d\",\"colorbar\":{\"outlinewidth\":0,\"ticks\":\"\"},\"colorscale\":[[0.0,\"#0d0887\"],[0.1111111111111111,\"#46039f\"],[0.2222222222222222,\"#7201a8\"],[0.3333333333333333,\"#9c179e\"],[0.4444444444444444,\"#bd3786\"],[0.5555555555555556,\"#d8576b\"],[0.6666666666666666,\"#ed7953\"],[0.7777777777777778,\"#fb9f3a\"],[0.8888888888888888,\"#fdca26\"],[1.0,\"#f0f921\"]]}],\"heatmap\":[{\"type\":\"heatmap\",\"colorbar\":{\"outlinewidth\":0,\"ticks\":\"\"},\"colorscale\":[[0.0,\"#0d0887\"],[0.1111111111111111,\"#46039f\"],[0.2222222222222222,\"#7201a8\"],[0.3333333333333333,\"#9c179e\"],[0.4444444444444444,\"#bd3786\"],[0.5555555555555556,\"#d8576b\"],[0.6666666666666666,\"#ed7953\"],[0.7777777777777778,\"#fb9f3a\"],[0.8888888888888888,\"#fdca26\"],[1.0,\"#f0f921\"]]}],\"heatmapgl\":[{\"type\":\"heatmapgl\",\"colorbar\":{\"outlinewidth\":0,\"ticks\":\"\"},\"colorscale\":[[0.0,\"#0d0887\"],[0.1111111111111111,\"#46039f\"],[0.2222222222222222,\"#7201a8\"],[0.3333333333333333,\"#9c179e\"],[0.4444444444444444,\"#bd3786\"],[0.5555555555555556,\"#d8576b\"],[0.6666666666666666,\"#ed7953\"],[0.7777777777777778,\"#fb9f3a\"],[0.8888888888888888,\"#fdca26\"],[1.0,\"#f0f921\"]]}],\"contourcarpet\":[{\"type\":\"contourcarpet\",\"colorbar\":{\"outlinewidth\":0,\"ticks\":\"\"}}],\"contour\":[{\"type\":\"contour\",\"colorbar\":{\"outlinewidth\":0,\"ticks\":\"\"},\"colorscale\":[[0.0,\"#0d0887\"],[0.1111111111111111,\"#46039f\"],[0.2222222222222222,\"#7201a8\"],[0.3333333333333333,\"#9c179e\"],[0.4444444444444444,\"#bd3786\"],[0.5555555555555556,\"#d8576b\"],[0.6666666666666666,\"#ed7953\"],[0.7777777777777778,\"#fb9f3a\"],[0.8888888888888888,\"#fdca26\"],[1.0,\"#f0f921\"]]}],\"surface\":[{\"type\":\"surface\",\"colorbar\":{\"outlinewidth\":0,\"ticks\":\"\"},\"colorscale\":[[0.0,\"#0d0887\"],[0.1111111111111111,\"#46039f\"],[0.2222222222222222,\"#7201a8\"],[0.3333333333333333,\"#9c179e\"],[0.4444444444444444,\"#bd3786\"],[0.5555555555555556,\"#d8576b\"],[0.6666666666666666,\"#ed7953\"],[0.7777777777777778,\"#fb9f3a\"],[0.8888888888888888,\"#fdca26\"],[1.0,\"#f0f921\"]]}],\"mesh3d\":[{\"type\":\"mesh3d\",\"colorbar\":{\"outlinewidth\":0,\"ticks\":\"\"}}],\"scatter\":[{\"fillpattern\":{\"fillmode\":\"overlay\",\"size\":10,\"solidity\":0.2},\"type\":\"scatter\"}],\"parcoords\":[{\"type\":\"parcoords\",\"line\":{\"colorbar\":{\"outlinewidth\":0,\"ticks\":\"\"}}}],\"scatterpolargl\":[{\"type\":\"scatterpolargl\",\"marker\":{\"colorbar\":{\"outlinewidth\":0,\"ticks\":\"\"}}}],\"bar\":[{\"error_x\":{\"color\":\"#2a3f5f\"},\"error_y\":{\"color\":\"#2a3f5f\"},\"marker\":{\"line\":{\"color\":\"#E5ECF6\",\"width\":0.5},\"pattern\":{\"fillmode\":\"overlay\",\"size\":10,\"solidity\":0.2}},\"type\":\"bar\"}],\"scattergeo\":[{\"type\":\"scattergeo\",\"marker\":{\"colorbar\":{\"outlinewidth\":0,\"ticks\":\"\"}}}],\"scatterpolar\":[{\"type\":\"scatterpolar\",\"marker\":{\"colorbar\":{\"outlinewidth\":0,\"ticks\":\"\"}}}],\"histogram\":[{\"marker\":{\"pattern\":{\"fillmode\":\"overlay\",\"size\":10,\"solidity\":0.2}},\"type\":\"histogram\"}],\"scattergl\":[{\"type\":\"scattergl\",\"marker\":{\"colorbar\":{\"outlinewidth\":0,\"ticks\":\"\"}}}],\"scatter3d\":[{\"type\":\"scatter3d\",\"line\":{\"colorbar\":{\"outlinewidth\":0,\"ticks\":\"\"}},\"marker\":{\"colorbar\":{\"outlinewidth\":0,\"ticks\":\"\"}}}],\"scattermapbox\":[{\"type\":\"scattermapbox\",\"marker\":{\"colorbar\":{\"outlinewidth\":0,\"ticks\":\"\"}}}],\"scatterternary\":[{\"type\":\"scatterternary\",\"marker\":{\"colorbar\":{\"outlinewidth\":0,\"ticks\":\"\"}}}],\"scattercarpet\":[{\"type\":\"scattercarpet\",\"marker\":{\"colorbar\":{\"outlinewidth\":0,\"ticks\":\"\"}}}],\"carpet\":[{\"aaxis\":{\"endlinecolor\":\"#2a3f5f\",\"gridcolor\":\"white\",\"linecolor\":\"white\",\"minorgridcolor\":\"white\",\"startlinecolor\":\"#2a3f5f\"},\"baxis\":{\"endlinecolor\":\"#2a3f5f\",\"gridcolor\":\"white\",\"linecolor\":\"white\",\"minorgridcolor\":\"white\",\"startlinecolor\":\"#2a3f5f\"},\"type\":\"carpet\"}],\"table\":[{\"cells\":{\"fill\":{\"color\":\"#EBF0F8\"},\"line\":{\"color\":\"white\"}},\"header\":{\"fill\":{\"color\":\"#C8D4E3\"},\"line\":{\"color\":\"white\"}},\"type\":\"table\"}],\"barpolar\":[{\"marker\":{\"line\":{\"color\":\"#E5ECF6\",\"width\":0.5},\"pattern\":{\"fillmode\":\"overlay\",\"size\":10,\"solidity\":0.2}},\"type\":\"barpolar\"}],\"pie\":[{\"automargin\":true,\"type\":\"pie\"}]},\"layout\":{\"autotypenumbers\":\"strict\",\"colorway\":[\"#636efa\",\"#EF553B\",\"#00cc96\",\"#ab63fa\",\"#FFA15A\",\"#19d3f3\",\"#FF6692\",\"#B6E880\",\"#FF97FF\",\"#FECB52\"],\"font\":{\"color\":\"#2a3f5f\"},\"hovermode\":\"closest\",\"hoverlabel\":{\"align\":\"left\"},\"paper_bgcolor\":\"white\",\"plot_bgcolor\":\"#E5ECF6\",\"polar\":{\"bgcolor\":\"#E5ECF6\",\"angularaxis\":{\"gridcolor\":\"white\",\"linecolor\":\"white\",\"ticks\":\"\"},\"radialaxis\":{\"gridcolor\":\"white\",\"linecolor\":\"white\",\"ticks\":\"\"}},\"ternary\":{\"bgcolor\":\"#E5ECF6\",\"aaxis\":{\"gridcolor\":\"white\",\"linecolor\":\"white\",\"ticks\":\"\"},\"baxis\":{\"gridcolor\":\"white\",\"linecolor\":\"white\",\"ticks\":\"\"},\"caxis\":{\"gridcolor\":\"white\",\"linecolor\":\"white\",\"ticks\":\"\"}},\"coloraxis\":{\"colorbar\":{\"outlinewidth\":0,\"ticks\":\"\"}},\"colorscale\":{\"sequential\":[[0.0,\"#0d0887\"],[0.1111111111111111,\"#46039f\"],[0.2222222222222222,\"#7201a8\"],[0.3333333333333333,\"#9c179e\"],[0.4444444444444444,\"#bd3786\"],[0.5555555555555556,\"#d8576b\"],[0.6666666666666666,\"#ed7953\"],[0.7777777777777778,\"#fb9f3a\"],[0.8888888888888888,\"#fdca26\"],[1.0,\"#f0f921\"]],\"sequentialminus\":[[0.0,\"#0d0887\"],[0.1111111111111111,\"#46039f\"],[0.2222222222222222,\"#7201a8\"],[0.3333333333333333,\"#9c179e\"],[0.4444444444444444,\"#bd3786\"],[0.5555555555555556,\"#d8576b\"],[0.6666666666666666,\"#ed7953\"],[0.7777777777777778,\"#fb9f3a\"],[0.8888888888888888,\"#fdca26\"],[1.0,\"#f0f921\"]],\"diverging\":[[0,\"#8e0152\"],[0.1,\"#c51b7d\"],[0.2,\"#de77ae\"],[0.3,\"#f1b6da\"],[0.4,\"#fde0ef\"],[0.5,\"#f7f7f7\"],[0.6,\"#e6f5d0\"],[0.7,\"#b8e186\"],[0.8,\"#7fbc41\"],[0.9,\"#4d9221\"],[1,\"#276419\"]]},\"xaxis\":{\"gridcolor\":\"white\",\"linecolor\":\"white\",\"ticks\":\"\",\"title\":{\"standoff\":15},\"zerolinecolor\":\"white\",\"automargin\":true,\"zerolinewidth\":2},\"yaxis\":{\"gridcolor\":\"white\",\"linecolor\":\"white\",\"ticks\":\"\",\"title\":{\"standoff\":15},\"zerolinecolor\":\"white\",\"automargin\":true,\"zerolinewidth\":2},\"scene\":{\"xaxis\":{\"backgroundcolor\":\"#E5ECF6\",\"gridcolor\":\"white\",\"linecolor\":\"white\",\"showbackground\":true,\"ticks\":\"\",\"zerolinecolor\":\"white\",\"gridwidth\":2},\"yaxis\":{\"backgroundcolor\":\"#E5ECF6\",\"gridcolor\":\"white\",\"linecolor\":\"white\",\"showbackground\":true,\"ticks\":\"\",\"zerolinecolor\":\"white\",\"gridwidth\":2},\"zaxis\":{\"backgroundcolor\":\"#E5ECF6\",\"gridcolor\":\"white\",\"linecolor\":\"white\",\"showbackground\":true,\"ticks\":\"\",\"zerolinecolor\":\"white\",\"gridwidth\":2}},\"shapedefaults\":{\"line\":{\"color\":\"#2a3f5f\"}},\"annotationdefaults\":{\"arrowcolor\":\"#2a3f5f\",\"arrowhead\":0,\"arrowwidth\":1},\"geo\":{\"bgcolor\":\"white\",\"landcolor\":\"#E5ECF6\",\"subunitcolor\":\"white\",\"showland\":true,\"showlakes\":true,\"lakecolor\":\"white\"},\"title\":{\"x\":0.05},\"mapbox\":{\"style\":\"light\"}}},\"xaxis\":{\"anchor\":\"y\",\"domain\":[0.0,1.0],\"title\":{\"text\":\"788 of 1913 Bar Coupons Accepted\"},\"range\":[0,1]},\"yaxis\":{\"anchor\":\"x\",\"domain\":[0.0,1.0],\"title\":{\"text\":\"\"}},\"legend\":{\"tracegroupgap\":0},\"title\":{\"text\":\"Proportion of Bar Coupons Accepted\"},\"barmode\":\"relative\",\"height\":210,\"width\":800,\"showlegend\":false},                        {\"responsive\": true}                    ).then(function(){\n",
              "                            \n",
              "var gd = document.getElementById('b448a987-e9e4-4f91-88f3-16b63a0fc501');\n",
              "var x = new MutationObserver(function (mutations, observer) {{\n",
              "        var display = window.getComputedStyle(gd).display;\n",
              "        if (!display || display === 'none') {{\n",
              "            console.log([gd, 'removed!']);\n",
              "            Plotly.purge(gd);\n",
              "            observer.disconnect();\n",
              "        }}\n",
              "}});\n",
              "\n",
              "// Listen for the removal of the full notebook cells\n",
              "var notebookContainer = gd.closest('#notebook-container');\n",
              "if (notebookContainer) {{\n",
              "    x.observe(notebookContainer, {childList: true});\n",
              "}}\n",
              "\n",
              "// Listen for the clearing of the current output cell\n",
              "var outputEl = gd.closest('.output');\n",
              "if (outputEl) {{\n",
              "    x.observe(outputEl, {childList: true});\n",
              "}}\n",
              "\n",
              "                        })                };                            </script>        </div>\n",
              "</body>\n",
              "</html>"
            ]
          },
          "metadata": {}
        }
      ]
    },
    {
      "cell_type": "markdown",
      "metadata": {
        "id": "9wOgC9MbELzR"
      },
      "source": [
        "3. Compare the acceptance rate between those who went to a bar 3 or fewer times a month to those who went more.\n"
      ]
    },
    {
      "cell_type": "code",
      "source": [
        "print(\"Those who accepted a coupon and went to a bar <= 3 times/month\", round(bar_df[bar_df['monthly_bar_visits'] < 4]['accepted'].mean(numeric_only=True), 3))\n",
        "print(\"Those who accepted a coupon and went to a bar > 3 times/month\",round(bar_df[bar_df['monthly_bar_visits'] > 3]['accepted'].mean(numeric_only=True), 3))"
      ],
      "metadata": {
        "colab": {
          "base_uri": "https://localhost:8080/"
        },
        "id": "UiqmPqsJXl0J",
        "outputId": "9f2dac91-d076-40fd-a066-0e23c104e6aa"
      },
      "execution_count": 217,
      "outputs": [
        {
          "output_type": "stream",
          "name": "stdout",
          "text": [
            "Those who accepted a coupon and went to a bar <= 3 times/month 0.373\n",
            "Those who accepted a coupon and went to a bar > 3 times/month 0.762\n"
          ]
        }
      ]
    },
    {
      "cell_type": "markdown",
      "metadata": {
        "id": "mUvs_3xQELzR"
      },
      "source": [
        "4. Compare the acceptance rate between drivers who go to a bar more than once a month and are over the age of 25 to the all others.  Is there a difference?\n"
      ]
    },
    {
      "cell_type": "code",
      "source": [
        "# Create subgroup mask\n",
        "subgroup_mask = (bar_df['monthly_bar_visits'] > 1) & (bar_df['age'] > 25)\n",
        "\n",
        "# Get counts for subgroup with accept == 1\n",
        "subgroup_accepted = bar_df[(subgroup_mask) & (bar_df['accepted'] == 1)].shape[0]\n",
        "subgroup_total = bar_df[subgroup_mask].shape[0]\n",
        "subgroup_pct = subgroup_accepted / subgroup_total\n",
        "\n",
        "# Get counts for those not in subgroup with accept == 1\n",
        "not_subgroup_accepted = bar_df[(~subgroup_mask) & (bar_df['accepted'] == 1)].shape[0]\n",
        "not_subgroup_total = bar_df[~subgroup_mask].shape[0]\n",
        "not_subgroup_pct = not_subgroup_accepted / not_subgroup_total\n",
        "\n",
        "print(f\"Target Group: {subgroup_accepted} / {subgroup_total} ({subgroup_pct:.3})\")\n",
        "\n",
        "print(f\"All Others: {not_subgroup_accepted} / {not_subgroup_total} ({not_subgroup_pct:.3})\")"
      ],
      "metadata": {
        "colab": {
          "base_uri": "https://localhost:8080/"
        },
        "id": "SMw5aYr8nAkt",
        "outputId": "08a517db-c515-44f8-c41d-c8fb2a5fa07e"
      },
      "execution_count": 218,
      "outputs": [
        {
          "output_type": "stream",
          "name": "stdout",
          "text": [
            "Target Group: 278 / 403 (0.69)\n",
            "All Others: 510 / 1510 (0.338)\n"
          ]
        }
      ]
    },
    {
      "cell_type": "markdown",
      "metadata": {
        "id": "B4ENROjTELzS"
      },
      "source": [
        "5. Use the same process to compare the acceptance rate between drivers who go to bars more than once a month and had passengers that were not a kid and had occupations other than farming, fishing, or forestry.\n"
      ]
    },
    {
      "cell_type": "code",
      "source": [
        "# Create subgroup mask\n",
        "subgroup_mask = (bar_df['monthly_bar_visits'] > 1) & (bar_df['passenger'] != 'kid') & (bar_df['occupation'] != 'Farming Fishing & Forestry')\n",
        "# Get counts for subgroup with accept == 1\n",
        "subgroup_accepted = bar_df[(subgroup_mask) & (bar_df['accepted'] == 1)].shape[0]\n",
        "subgroup_total = bar_df[subgroup_mask].shape[0]\n",
        "subgroup_pct = subgroup_accepted / subgroup_total\n",
        "\n",
        "# Get counts for those not in subgroup with accept == 1\n",
        "not_subgroup_accepted = bar_df[(~subgroup_mask) & (bar_df['accepted'] == 1)].shape[0]\n",
        "not_subgroup_total = bar_df[~subgroup_mask].shape[0]\n",
        "not_subgroup_pct = not_subgroup_accepted / not_subgroup_total\n",
        "\n",
        "print(f\"Target Group: {subgroup_accepted} / {subgroup_total} ({subgroup_pct:.3})\")\n",
        "\n",
        "print(f\"All Others: {not_subgroup_accepted} / {not_subgroup_total} ({not_subgroup_pct:.3})\")"
      ],
      "metadata": {
        "colab": {
          "base_uri": "https://localhost:8080/"
        },
        "id": "ppRoZn2Nr5gx",
        "outputId": "eb2b9ef1-b365-4351-9ef4-7d3b1ae208fb"
      },
      "execution_count": 219,
      "outputs": [
        {
          "output_type": "stream",
          "name": "stdout",
          "text": [
            "Target Group: 392 / 572 (0.685)\n",
            "All Others: 396 / 1341 (0.295)\n"
          ]
        }
      ]
    },
    {
      "cell_type": "markdown",
      "metadata": {
        "id": "FVUlXnkyELzS"
      },
      "source": [
        "6. Compare the acceptance rates between those drivers who:\n",
        "\n",
        "- go to bars more than once a month, had passengers that were not a kid, and were not widowed *OR*\n",
        "- go to bars more than once a month and are under the age of 30 *OR*\n",
        "- go to cheap restaurants more than 4 times a month and income is less than 50K.\n",
        "\n"
      ]
    },
    {
      "cell_type": "code",
      "source": [
        "# Create masks for each target group\n",
        "target1_mask = (bar_df['accepted'] == 1) & (bar_df['monthly_bar_visits'] > 1) & (bar_df['passenger'] != 'kid') & (bar_df['marital_status'] != 'widowed')\n",
        "target2_mask = (bar_df['accepted'] == 1) & (bar_df['monthly_bar_visits'] > 1) & (bar_df['age'] < 30)\n",
        "target3_mask = (bar_df['accepted'] == 1) & (bar_df['monthly_restaurant_visits_lt20'] > 4) & (bar_df['income'] < 50000)\n",
        "\n",
        "# Get counts and percentages for each target group\n",
        "target1_count = bar_df[target1_mask].shape[0]\n",
        "target1_total = bar_df.shape[0]\n",
        "target1_pct = target1_count / target1_total\n",
        "\n",
        "target2_count = bar_df[target2_mask].shape[0]\n",
        "target2_total = bar_df.shape[0]\n",
        "target2_pct = target2_count / target2_total\n",
        "\n",
        "target3_count = bar_df[target3_mask].shape[0]\n",
        "target3_total = bar_df.shape[0]\n",
        "target3_pct = target3_count / target3_total\n",
        "\n",
        "print(f\"Target Group 1: {target1_count} / {target1_total} ({target1_pct:.3})\")\n",
        "print(f\"Target Group 2: {target2_count} / {target2_total} ({target2_pct:.3})\")\n",
        "print(f\"Target Group 3: {target3_count} / {target3_total} ({target3_pct:.3})\")"
      ],
      "metadata": {
        "colab": {
          "base_uri": "https://localhost:8080/"
        },
        "id": "VbUbvx8Rvtfy",
        "outputId": "bc6ea166-c0f8-4851-c3b3-263869510e03"
      },
      "execution_count": 220,
      "outputs": [
        {
          "output_type": "stream",
          "name": "stdout",
          "text": [
            "Target Group 1: 392 / 1913 (0.205)\n",
            "Target Group 2: 236 / 1913 (0.123)\n",
            "Target Group 3: 152 / 1913 (0.0795)\n"
          ]
        }
      ]
    },
    {
      "cell_type": "markdown",
      "metadata": {
        "id": "neb7ea_TELzS"
      },
      "source": [
        "7.  Based on these observations, what do you hypothesize about drivers who accepted the bar coupons?"
      ]
    },
    {
      "cell_type": "markdown",
      "source": [
        "*   The overall proportion of bar coupons accepted is 41.2% (788 of 1913), suggesting half of drivers do not accept bar coupons while driving.\n",
        "* Those who go to a bar four or more times a month are more likely to accept bar coupons (76%) than those who go three times a month or less (37.3%).\n",
        "* Drivers who go to a bar more than once a month and are over 25 have a higher acceptance rate (69%) than all others (33.8%).\n",
        "* When considering drivers who go to bars more than once a month and have passengers who are not kids and have occupations other than farming, fishing, or forestry, the acceptance rate is 68.5%, which is significantly higher than the acceptance rate for all others (29.5%).\n",
        "* Comparing the acceptance rates among different groups of drivers offered a bar coupon:\n",
        "  * Those who go to bars more than once a month have passengers who are not under 18 and are not widowed; the acceptance rate is 20.5%.\n",
        "  * The acceptance rate is 12.3% for those who go to bars more than once a month and are under 30.\n",
        "  * If one goes to cheap restaurants more than four times a month and earns less than $50,000/year, this indicates they would not accept a bar coupon; the acceptance rate is 8.0%."
      ],
      "metadata": {
        "id": "a3MU1VqypaNX"
      }
    },
    {
      "cell_type": "markdown",
      "metadata": {
        "id": "1nfn3XqMELzS"
      },
      "source": [
        "### Independent Investigation\n",
        "\n",
        "Using the bar coupon example as motivation, you are to explore one of the other coupon groups and try to determine the characteristics of passengers who accept the coupons.  "
      ]
    },
    {
      "cell_type": "code",
      "execution_count": 221,
      "metadata": {
        "id": "puQznV_9ELzS",
        "colab": {
          "base_uri": "https://localhost:8080/"
        },
        "outputId": "6b45df9e-0d9f-4396-9afb-5f43e373bde2"
      },
      "outputs": [
        {
          "output_type": "stream",
          "name": "stdout",
          "text": [
            "Number of takeaway coupons offered: 2280\n",
            "Number of takeaway coupons accepted (1): 1682\n",
            "Number of takeaway coupons not accepted (0): 598\n"
          ]
        }
      ],
      "source": [
        "takeaway_df = data.loc[data['coupon'] == 'takeaway']\n",
        "\n",
        "print(f\"Number of takeaway coupons offered: {len(takeaway_df)}\")\n",
        "print(f\"Number of takeaway coupons accepted (1): {len(takeaway_df[takeaway_df['accepted'] == 1])}\")\n",
        "print(f\"Number of takeaway coupons not accepted (0): {len(takeaway_df[takeaway_df['accepted'] == 0])}\")"
      ]
    },
    {
      "cell_type": "code",
      "execution_count": 222,
      "metadata": {
        "id": "HKkcW-CBELzS",
        "colab": {
          "base_uri": "https://localhost:8080/"
        },
        "outputId": "39c296ab-8ef8-4ad9-8830-0e871caa4f75"
      },
      "outputs": [
        {
          "output_type": "stream",
          "name": "stdout",
          "text": [
            "Proportion of accepted takeaway coupons: 0.738\n"
          ]
        }
      ],
      "source": [
        "accepted_takeaway = len(takeaway_df[takeaway_df['accepted'] == 1])\n",
        "total_takeaway = len(takeaway_df)\n",
        "proportion_accepted = accepted_takeaway / total_takeaway\n",
        "\n",
        "print(f\"Proportion of accepted takeaway coupons: {proportion_accepted:.3f}\")"
      ]
    },
    {
      "cell_type": "code",
      "execution_count": 223,
      "metadata": {
        "id": "ysSAQ4COELzT",
        "colab": {
          "base_uri": "https://localhost:8080/"
        },
        "outputId": "8cd6fe7d-b1e0-43a9-fb74-a2f4804bc70f"
      },
      "outputs": [
        {
          "output_type": "stream",
          "name": "stdout",
          "text": [
            "Number of accepted takeaway coupons: 172 out of 230 total\n",
            "Acceptance rate for single/divorced/widowed with children: 0.75\n"
          ]
        }
      ],
      "source": [
        "# Filter for single, divorced, or widowed\n",
        "marital_status_filter = (takeaway_df['marital_status'] == 'single') | (takeaway_df['marital_status'] == 'divorced') | (takeaway_df['marital_status'] == 'widowed')\n",
        "\n",
        "# Filter for has_children == 1\n",
        "has_children_filter = (takeaway_df['has_children'] == 1)\n",
        "\n",
        "# Combine filters\n",
        "combined_filter = marital_status_filter & has_children_filter\n",
        "\n",
        "# Apply filter to get subset\n",
        "subset_df = takeaway_df[combined_filter]\n",
        "\n",
        "# Calculate acceptance rate\n",
        "accepted = len(subset_df[subset_df['accepted'] == 1])\n",
        "total = len(subset_df)\n",
        "\n",
        "print(f\"Number of accepted takeaway coupons: {accepted} out of {total} total\")\n",
        "\n",
        "acceptance_rate = accepted / total\n",
        "print(f\"Acceptance rate for single/divorced/widowed with children: {acceptance_rate:.2f}\")"
      ]
    },
    {
      "cell_type": "markdown",
      "source": [
        "**Percentage of Accepted Coupons by Professional Status**"
      ],
      "metadata": {
        "id": "_D0OVifEcKG_"
      }
    },
    {
      "cell_type": "code",
      "source": [
        "import plotly.express as px\n",
        "\n",
        "# Filter for only accepted takeaway coupons\n",
        "accepted_takeaway_df = takeaway_df[takeaway_df['accepted'] == 1]\n",
        "\n",
        "# Count the frequency of each professional_status for accepted coupons\n",
        "status_counts = accepted_takeaway_df['professional_status'].value_counts()\n",
        "\n",
        "# Create pie chart\n",
        "professional_status_pie = px.pie(values=status_counts, names=status_counts.index,\n",
        "             title='Professional Status Distribution for Accepted Takeaway Coupons')\n",
        "\n",
        "professional_status_pie.show()"
      ],
      "metadata": {
        "id": "YUQ8PRSaZwaL",
        "colab": {
          "base_uri": "https://localhost:8080/",
          "height": 542
        },
        "outputId": "8fa0b793-dc4a-480c-843a-cece540dce94"
      },
      "execution_count": 224,
      "outputs": [
        {
          "output_type": "display_data",
          "data": {
            "text/html": [
              "<html>\n",
              "<head><meta charset=\"utf-8\" /></head>\n",
              "<body>\n",
              "    <div>            <script src=\"https://cdnjs.cloudflare.com/ajax/libs/mathjax/2.7.5/MathJax.js?config=TeX-AMS-MML_SVG\"></script><script type=\"text/javascript\">if (window.MathJax && window.MathJax.Hub && window.MathJax.Hub.Config) {window.MathJax.Hub.Config({SVG: {font: \"STIX-Web\"}});}</script>                <script type=\"text/javascript\">window.PlotlyConfig = {MathJaxConfig: 'local'};</script>\n",
              "        <script charset=\"utf-8\" src=\"https://cdn.plot.ly/plotly-2.24.1.min.js\"></script>                <div id=\"a2312003-80d2-4b7e-948e-07581778430e\" class=\"plotly-graph-div\" style=\"height:525px; width:100%;\"></div>            <script type=\"text/javascript\">                                    window.PLOTLYENV=window.PLOTLYENV || {};                                    if (document.getElementById(\"a2312003-80d2-4b7e-948e-07581778430e\")) {                    Plotly.newPlot(                        \"a2312003-80d2-4b7e-948e-07581778430e\",                        [{\"domain\":{\"x\":[0.0,1.0],\"y\":[0.0,1.0]},\"hovertemplate\":\"label=%{label}\\u003cbr\\u003evalue=%{value}\\u003cextra\\u003e\\u003c\\u002fextra\\u003e\",\"labels\":[\"white collar\",\"unemployed\",\"blue collar\",\"student\",\"other\",\"retired\"],\"legendgroup\":\"\",\"name\":\"\",\"showlegend\":true,\"values\":[822,261,226,199,115,59],\"type\":\"pie\"}],                        {\"template\":{\"data\":{\"histogram2dcontour\":[{\"type\":\"histogram2dcontour\",\"colorbar\":{\"outlinewidth\":0,\"ticks\":\"\"},\"colorscale\":[[0.0,\"#0d0887\"],[0.1111111111111111,\"#46039f\"],[0.2222222222222222,\"#7201a8\"],[0.3333333333333333,\"#9c179e\"],[0.4444444444444444,\"#bd3786\"],[0.5555555555555556,\"#d8576b\"],[0.6666666666666666,\"#ed7953\"],[0.7777777777777778,\"#fb9f3a\"],[0.8888888888888888,\"#fdca26\"],[1.0,\"#f0f921\"]]}],\"choropleth\":[{\"type\":\"choropleth\",\"colorbar\":{\"outlinewidth\":0,\"ticks\":\"\"}}],\"histogram2d\":[{\"type\":\"histogram2d\",\"colorbar\":{\"outlinewidth\":0,\"ticks\":\"\"},\"colorscale\":[[0.0,\"#0d0887\"],[0.1111111111111111,\"#46039f\"],[0.2222222222222222,\"#7201a8\"],[0.3333333333333333,\"#9c179e\"],[0.4444444444444444,\"#bd3786\"],[0.5555555555555556,\"#d8576b\"],[0.6666666666666666,\"#ed7953\"],[0.7777777777777778,\"#fb9f3a\"],[0.8888888888888888,\"#fdca26\"],[1.0,\"#f0f921\"]]}],\"heatmap\":[{\"type\":\"heatmap\",\"colorbar\":{\"outlinewidth\":0,\"ticks\":\"\"},\"colorscale\":[[0.0,\"#0d0887\"],[0.1111111111111111,\"#46039f\"],[0.2222222222222222,\"#7201a8\"],[0.3333333333333333,\"#9c179e\"],[0.4444444444444444,\"#bd3786\"],[0.5555555555555556,\"#d8576b\"],[0.6666666666666666,\"#ed7953\"],[0.7777777777777778,\"#fb9f3a\"],[0.8888888888888888,\"#fdca26\"],[1.0,\"#f0f921\"]]}],\"heatmapgl\":[{\"type\":\"heatmapgl\",\"colorbar\":{\"outlinewidth\":0,\"ticks\":\"\"},\"colorscale\":[[0.0,\"#0d0887\"],[0.1111111111111111,\"#46039f\"],[0.2222222222222222,\"#7201a8\"],[0.3333333333333333,\"#9c179e\"],[0.4444444444444444,\"#bd3786\"],[0.5555555555555556,\"#d8576b\"],[0.6666666666666666,\"#ed7953\"],[0.7777777777777778,\"#fb9f3a\"],[0.8888888888888888,\"#fdca26\"],[1.0,\"#f0f921\"]]}],\"contourcarpet\":[{\"type\":\"contourcarpet\",\"colorbar\":{\"outlinewidth\":0,\"ticks\":\"\"}}],\"contour\":[{\"type\":\"contour\",\"colorbar\":{\"outlinewidth\":0,\"ticks\":\"\"},\"colorscale\":[[0.0,\"#0d0887\"],[0.1111111111111111,\"#46039f\"],[0.2222222222222222,\"#7201a8\"],[0.3333333333333333,\"#9c179e\"],[0.4444444444444444,\"#bd3786\"],[0.5555555555555556,\"#d8576b\"],[0.6666666666666666,\"#ed7953\"],[0.7777777777777778,\"#fb9f3a\"],[0.8888888888888888,\"#fdca26\"],[1.0,\"#f0f921\"]]}],\"surface\":[{\"type\":\"surface\",\"colorbar\":{\"outlinewidth\":0,\"ticks\":\"\"},\"colorscale\":[[0.0,\"#0d0887\"],[0.1111111111111111,\"#46039f\"],[0.2222222222222222,\"#7201a8\"],[0.3333333333333333,\"#9c179e\"],[0.4444444444444444,\"#bd3786\"],[0.5555555555555556,\"#d8576b\"],[0.6666666666666666,\"#ed7953\"],[0.7777777777777778,\"#fb9f3a\"],[0.8888888888888888,\"#fdca26\"],[1.0,\"#f0f921\"]]}],\"mesh3d\":[{\"type\":\"mesh3d\",\"colorbar\":{\"outlinewidth\":0,\"ticks\":\"\"}}],\"scatter\":[{\"fillpattern\":{\"fillmode\":\"overlay\",\"size\":10,\"solidity\":0.2},\"type\":\"scatter\"}],\"parcoords\":[{\"type\":\"parcoords\",\"line\":{\"colorbar\":{\"outlinewidth\":0,\"ticks\":\"\"}}}],\"scatterpolargl\":[{\"type\":\"scatterpolargl\",\"marker\":{\"colorbar\":{\"outlinewidth\":0,\"ticks\":\"\"}}}],\"bar\":[{\"error_x\":{\"color\":\"#2a3f5f\"},\"error_y\":{\"color\":\"#2a3f5f\"},\"marker\":{\"line\":{\"color\":\"#E5ECF6\",\"width\":0.5},\"pattern\":{\"fillmode\":\"overlay\",\"size\":10,\"solidity\":0.2}},\"type\":\"bar\"}],\"scattergeo\":[{\"type\":\"scattergeo\",\"marker\":{\"colorbar\":{\"outlinewidth\":0,\"ticks\":\"\"}}}],\"scatterpolar\":[{\"type\":\"scatterpolar\",\"marker\":{\"colorbar\":{\"outlinewidth\":0,\"ticks\":\"\"}}}],\"histogram\":[{\"marker\":{\"pattern\":{\"fillmode\":\"overlay\",\"size\":10,\"solidity\":0.2}},\"type\":\"histogram\"}],\"scattergl\":[{\"type\":\"scattergl\",\"marker\":{\"colorbar\":{\"outlinewidth\":0,\"ticks\":\"\"}}}],\"scatter3d\":[{\"type\":\"scatter3d\",\"line\":{\"colorbar\":{\"outlinewidth\":0,\"ticks\":\"\"}},\"marker\":{\"colorbar\":{\"outlinewidth\":0,\"ticks\":\"\"}}}],\"scattermapbox\":[{\"type\":\"scattermapbox\",\"marker\":{\"colorbar\":{\"outlinewidth\":0,\"ticks\":\"\"}}}],\"scatterternary\":[{\"type\":\"scatterternary\",\"marker\":{\"colorbar\":{\"outlinewidth\":0,\"ticks\":\"\"}}}],\"scattercarpet\":[{\"type\":\"scattercarpet\",\"marker\":{\"colorbar\":{\"outlinewidth\":0,\"ticks\":\"\"}}}],\"carpet\":[{\"aaxis\":{\"endlinecolor\":\"#2a3f5f\",\"gridcolor\":\"white\",\"linecolor\":\"white\",\"minorgridcolor\":\"white\",\"startlinecolor\":\"#2a3f5f\"},\"baxis\":{\"endlinecolor\":\"#2a3f5f\",\"gridcolor\":\"white\",\"linecolor\":\"white\",\"minorgridcolor\":\"white\",\"startlinecolor\":\"#2a3f5f\"},\"type\":\"carpet\"}],\"table\":[{\"cells\":{\"fill\":{\"color\":\"#EBF0F8\"},\"line\":{\"color\":\"white\"}},\"header\":{\"fill\":{\"color\":\"#C8D4E3\"},\"line\":{\"color\":\"white\"}},\"type\":\"table\"}],\"barpolar\":[{\"marker\":{\"line\":{\"color\":\"#E5ECF6\",\"width\":0.5},\"pattern\":{\"fillmode\":\"overlay\",\"size\":10,\"solidity\":0.2}},\"type\":\"barpolar\"}],\"pie\":[{\"automargin\":true,\"type\":\"pie\"}]},\"layout\":{\"autotypenumbers\":\"strict\",\"colorway\":[\"#636efa\",\"#EF553B\",\"#00cc96\",\"#ab63fa\",\"#FFA15A\",\"#19d3f3\",\"#FF6692\",\"#B6E880\",\"#FF97FF\",\"#FECB52\"],\"font\":{\"color\":\"#2a3f5f\"},\"hovermode\":\"closest\",\"hoverlabel\":{\"align\":\"left\"},\"paper_bgcolor\":\"white\",\"plot_bgcolor\":\"#E5ECF6\",\"polar\":{\"bgcolor\":\"#E5ECF6\",\"angularaxis\":{\"gridcolor\":\"white\",\"linecolor\":\"white\",\"ticks\":\"\"},\"radialaxis\":{\"gridcolor\":\"white\",\"linecolor\":\"white\",\"ticks\":\"\"}},\"ternary\":{\"bgcolor\":\"#E5ECF6\",\"aaxis\":{\"gridcolor\":\"white\",\"linecolor\":\"white\",\"ticks\":\"\"},\"baxis\":{\"gridcolor\":\"white\",\"linecolor\":\"white\",\"ticks\":\"\"},\"caxis\":{\"gridcolor\":\"white\",\"linecolor\":\"white\",\"ticks\":\"\"}},\"coloraxis\":{\"colorbar\":{\"outlinewidth\":0,\"ticks\":\"\"}},\"colorscale\":{\"sequential\":[[0.0,\"#0d0887\"],[0.1111111111111111,\"#46039f\"],[0.2222222222222222,\"#7201a8\"],[0.3333333333333333,\"#9c179e\"],[0.4444444444444444,\"#bd3786\"],[0.5555555555555556,\"#d8576b\"],[0.6666666666666666,\"#ed7953\"],[0.7777777777777778,\"#fb9f3a\"],[0.8888888888888888,\"#fdca26\"],[1.0,\"#f0f921\"]],\"sequentialminus\":[[0.0,\"#0d0887\"],[0.1111111111111111,\"#46039f\"],[0.2222222222222222,\"#7201a8\"],[0.3333333333333333,\"#9c179e\"],[0.4444444444444444,\"#bd3786\"],[0.5555555555555556,\"#d8576b\"],[0.6666666666666666,\"#ed7953\"],[0.7777777777777778,\"#fb9f3a\"],[0.8888888888888888,\"#fdca26\"],[1.0,\"#f0f921\"]],\"diverging\":[[0,\"#8e0152\"],[0.1,\"#c51b7d\"],[0.2,\"#de77ae\"],[0.3,\"#f1b6da\"],[0.4,\"#fde0ef\"],[0.5,\"#f7f7f7\"],[0.6,\"#e6f5d0\"],[0.7,\"#b8e186\"],[0.8,\"#7fbc41\"],[0.9,\"#4d9221\"],[1,\"#276419\"]]},\"xaxis\":{\"gridcolor\":\"white\",\"linecolor\":\"white\",\"ticks\":\"\",\"title\":{\"standoff\":15},\"zerolinecolor\":\"white\",\"automargin\":true,\"zerolinewidth\":2},\"yaxis\":{\"gridcolor\":\"white\",\"linecolor\":\"white\",\"ticks\":\"\",\"title\":{\"standoff\":15},\"zerolinecolor\":\"white\",\"automargin\":true,\"zerolinewidth\":2},\"scene\":{\"xaxis\":{\"backgroundcolor\":\"#E5ECF6\",\"gridcolor\":\"white\",\"linecolor\":\"white\",\"showbackground\":true,\"ticks\":\"\",\"zerolinecolor\":\"white\",\"gridwidth\":2},\"yaxis\":{\"backgroundcolor\":\"#E5ECF6\",\"gridcolor\":\"white\",\"linecolor\":\"white\",\"showbackground\":true,\"ticks\":\"\",\"zerolinecolor\":\"white\",\"gridwidth\":2},\"zaxis\":{\"backgroundcolor\":\"#E5ECF6\",\"gridcolor\":\"white\",\"linecolor\":\"white\",\"showbackground\":true,\"ticks\":\"\",\"zerolinecolor\":\"white\",\"gridwidth\":2}},\"shapedefaults\":{\"line\":{\"color\":\"#2a3f5f\"}},\"annotationdefaults\":{\"arrowcolor\":\"#2a3f5f\",\"arrowhead\":0,\"arrowwidth\":1},\"geo\":{\"bgcolor\":\"white\",\"landcolor\":\"#E5ECF6\",\"subunitcolor\":\"white\",\"showland\":true,\"showlakes\":true,\"lakecolor\":\"white\"},\"title\":{\"x\":0.05},\"mapbox\":{\"style\":\"light\"}}},\"legend\":{\"tracegroupgap\":0},\"title\":{\"text\":\"Professional Status Distribution for Accepted Takeaway Coupons\"}},                        {\"responsive\": true}                    ).then(function(){\n",
              "                            \n",
              "var gd = document.getElementById('a2312003-80d2-4b7e-948e-07581778430e');\n",
              "var x = new MutationObserver(function (mutations, observer) {{\n",
              "        var display = window.getComputedStyle(gd).display;\n",
              "        if (!display || display === 'none') {{\n",
              "            console.log([gd, 'removed!']);\n",
              "            Plotly.purge(gd);\n",
              "            observer.disconnect();\n",
              "        }}\n",
              "}});\n",
              "\n",
              "// Listen for the removal of the full notebook cells\n",
              "var notebookContainer = gd.closest('#notebook-container');\n",
              "if (notebookContainer) {{\n",
              "    x.observe(notebookContainer, {childList: true});\n",
              "}}\n",
              "\n",
              "// Listen for the clearing of the current output cell\n",
              "var outputEl = gd.closest('.output');\n",
              "if (outputEl) {{\n",
              "    x.observe(outputEl, {childList: true});\n",
              "}}\n",
              "\n",
              "                        })                };                            </script>        </div>\n",
              "</body>\n",
              "</html>"
            ]
          },
          "metadata": {}
        }
      ]
    },
    {
      "cell_type": "markdown",
      "source": [
        "**Proportion of Accepted Takeaway Coupons by Professional Status**\n",
        "\n",
        "\n"
      ],
      "metadata": {
        "id": "e3fj5kN_cVVK"
      }
    },
    {
      "cell_type": "code",
      "source": [
        "status_proportions = []\n",
        "\n",
        "for status in takeaway_df['professional_status'].unique():\n",
        "    status_df = takeaway_df[takeaway_df['professional_status'] == status]\n",
        "\n",
        "    total_offered = len(status_df)\n",
        "    total_accepted = len(status_df[status_df['accepted'] == 1])\n",
        "\n",
        "    proportion = total_accepted / total_offered\n",
        "\n",
        "    status_proportions.append((status, proportion, total_offered, total_accepted))\n",
        "\n",
        "# Sort by proportion descending\n",
        "status_proportions.sort(key=lambda x: x[1], reverse=True)\n",
        "\n",
        "# Print out results\n",
        "for status, proportion, total_offered, total_accepted in status_proportions:\n",
        "    print(f\"{status.capitalize()}\")\n",
        "    print(f\"Total takeaway coupons offered: {total_offered}\")\n",
        "    print(f\"Total takeaway coupons accepted: {total_accepted}\")\n",
        "    print(f\"Proportion of accepted coupons: {proportion:.3f}\\n\")"
      ],
      "metadata": {
        "colab": {
          "base_uri": "https://localhost:8080/"
        },
        "id": "Qd1QSOC9HHR3",
        "outputId": "06ad86a5-2674-4536-f828-0a5d933c4cf0"
      },
      "execution_count": 225,
      "outputs": [
        {
          "output_type": "stream",
          "name": "stdout",
          "text": [
            "Blue collar\n",
            "Total takeaway coupons offered: 267\n",
            "Total takeaway coupons accepted: 226\n",
            "Proportion of accepted coupons: 0.846\n",
            "\n",
            "Unemployed\n",
            "Total takeaway coupons offered: 347\n",
            "Total takeaway coupons accepted: 261\n",
            "Proportion of accepted coupons: 0.752\n",
            "\n",
            "White collar\n",
            "Total takeaway coupons offered: 1123\n",
            "Total takeaway coupons accepted: 822\n",
            "Proportion of accepted coupons: 0.732\n",
            "\n",
            "Retired\n",
            "Total takeaway coupons offered: 84\n",
            "Total takeaway coupons accepted: 59\n",
            "Proportion of accepted coupons: 0.702\n",
            "\n",
            "Other\n",
            "Total takeaway coupons offered: 164\n",
            "Total takeaway coupons accepted: 115\n",
            "Proportion of accepted coupons: 0.701\n",
            "\n",
            "Student\n",
            "Total takeaway coupons offered: 295\n",
            "Total takeaway coupons accepted: 199\n",
            "Proportion of accepted coupons: 0.675\n",
            "\n"
          ]
        }
      ]
    },
    {
      "cell_type": "code",
      "source": [
        "# Data\n",
        "groups = ['Blue Collar', 'Unemployed', 'White Collar', 'Retired', 'Other', 'Student']\n",
        "proportions = [0.846, 0.752, 0.732, 0.702, 0.701, 0.675]\n",
        "\n",
        "# Creating a DataFrame\n",
        "df = pd.DataFrame({'Group': groups, 'Proportion Accepted': proportions})\n",
        "\n",
        "# Plotting\n",
        "plt.figure(figsize=(10, 6))\n",
        "barplot = sns.barplot(x='Group', y='Proportion Accepted', hue='Group', data=df, palette=\"dark\")\n",
        "plt.title('Proportion of Takeaway Coupons Accepted by Professional Status')\n",
        "plt.xticks(rotation=45, ha=\"right\")\n",
        "\n",
        "# Adding the text on the bars\n",
        "for index, value in enumerate(proportions):\n",
        "    plt.text(index, value, f\"{value:.3f}\", ha='center', va='bottom')\n",
        "\n",
        "# Remove the group labels at the bottom\n",
        "plt.tick_params(bottom=False)\n",
        "\n",
        "plt.savefig('images/proportion_accepted_chart.png')\n",
        "\n",
        "plt.tight_layout()\n",
        "plt.show()\n"
      ],
      "metadata": {
        "colab": {
          "base_uri": "https://localhost:8080/",
          "height": 408
        },
        "id": "JcuLes3hiQW_",
        "outputId": "a009a50e-ad90-40cd-ff8e-0fdd247041a2"
      },
      "execution_count": 226,
      "outputs": [
        {
          "output_type": "display_data",
          "data": {
            "text/plain": [
              "<Figure size 1000x600 with 1 Axes>"
            ],
            "image/png": "[encoded data removed]"
          },
          "metadata": {}
        }
      ]
    },
    {
      "cell_type": "markdown",
      "source": [
        "**Proportion of White Collar Professionals who Accepted Coupons by Marital"
      ],
      "metadata": {
        "id": "JidD6S6tcnrp"
      }
    },
    {
      "cell_type": "code",
      "source": [
        "marital_proportions = []\n",
        "\n",
        "for status in takeaway_df[(takeaway_df['professional_status'] == 'white collar')]['marital_status'].unique():\n",
        "    status_df = takeaway_df[(takeaway_df['professional_status'] == 'white collar') & (takeaway_df['marital_status'] == status)]\n",
        "\n",
        "    total_offered = len(status_df)\n",
        "    total_accepted = len(status_df[status_df['accepted'] == 1])\n",
        "\n",
        "    proportion = total_accepted / total_offered\n",
        "\n",
        "    marital_proportions.append((status, proportion, total_offered, total_accepted))\n",
        "\n",
        "# Sort by proportion descending\n",
        "marital_proportions.sort(key=lambda x: x[1], reverse=True)\n",
        "\n",
        "# Print out results\n",
        "for status, proportion, total_offered, total_accepted in marital_proportions:\n",
        "    print(f\"{status.capitalize()}\")\n",
        "    print(f\"Total takeaway coupons offered: {total_offered}\")\n",
        "    print(f\"Total takeaway coupons accepted: {total_accepted}\")\n",
        "    print(f\"Proportion of accepted coupons: {proportion:.3f}\\n\")"
      ],
      "metadata": {
        "colab": {
          "base_uri": "https://localhost:8080/"
        },
        "id": "MqKKMeyYHr0N",
        "outputId": "77f3d22c-e409-40a7-b8ae-0e69dbd4418d"
      },
      "execution_count": 227,
      "outputs": [
        {
          "output_type": "stream",
          "name": "stdout",
          "text": [
            "Single\n",
            "Total takeaway coupons offered: 388\n",
            "Total takeaway coupons accepted: 292\n",
            "Proportion of accepted coupons: 0.753\n",
            "\n",
            "Married\n",
            "Total takeaway coupons offered: 522\n",
            "Total takeaway coupons accepted: 388\n",
            "Proportion of accepted coupons: 0.743\n",
            "\n",
            "Divorced\n",
            "Total takeaway coupons offered: 60\n",
            "Total takeaway coupons accepted: 43\n",
            "Proportion of accepted coupons: 0.717\n",
            "\n",
            "Partner\n",
            "Total takeaway coupons offered: 153\n",
            "Total takeaway coupons accepted: 99\n",
            "Proportion of accepted coupons: 0.647\n",
            "\n"
          ]
        }
      ]
    },
    {
      "cell_type": "code",
      "source": [
        "import matplotlib.pyplot as plt\n",
        "import seaborn as sns\n",
        "import pandas as pd\n",
        "\n",
        "# Data for the new table\n",
        "groups = ['Single', 'Married', 'Divorced', 'Partner']\n",
        "proportions = [0.75, 0.74, 0.72, 0.65]\n",
        "\n",
        "# Creating a DataFrame with the updated data\n",
        "df = pd.DataFrame({'Group': groups, 'Proportion Accepted': proportions})\n",
        "\n",
        "# Plotting\n",
        "plt.figure(figsize=(8, 6))  # Adjusted for the number of groups\n",
        "barplot = sns.barplot(x='Group', y='Proportion Accepted', data=df, hue='Group', palette=\"dark\")\n",
        "plt.title('Proportion of Takeaway Coupons Accepted by Marital Status')\n",
        "plt.xticks(rotation=45, ha=\"right\")\n",
        "\n",
        "# Adding the text on the bars\n",
        "for p in barplot.patches:\n",
        "    barplot.annotate(format(p.get_height(), '.3f'),\n",
        "                     (p.get_x() + p.get_width() / 2., p.get_height()),\n",
        "                     ha = 'center', va = 'center',\n",
        "                     size=9,\n",
        "                     xytext = (0, 9),\n",
        "                     textcoords = 'offset points')\n",
        "\n",
        "plt.tight_layout()\n",
        "\n",
        "plt.savefig('images/marital_status_proportion_accepted_chart.png')\n",
        "\n",
        "plt.show()\n"
      ],
      "metadata": {
        "colab": {
          "base_uri": "https://localhost:8080/",
          "height": 506
        },
        "id": "zXAPKA6Zl5LK",
        "outputId": "b7faad91-3ddc-4971-ebeb-02da9f9c97e0"
      },
      "execution_count": 228,
      "outputs": [
        {
          "output_type": "display_data",
          "data": {
            "text/plain": [
              "<Figure size 800x600 with 1 Axes>"
            ],
            "image/png": "[encoded data removed]"
          },
          "metadata": {}
        }
      ]
    },
    {
      "cell_type": "markdown",
      "source": [
        "**Proportion of Single White Collar Professionals who Accepted Coupons by Age"
      ],
      "metadata": {
        "id": "ef4iWAxadI2a"
      }
    },
    {
      "cell_type": "code",
      "source": [
        "age_proportions = []\n",
        "\n",
        "for age_range in [\"16 - 20\", \"21 - 25\", \"26 - 30\", \"31 - 35\", \"36 - 40\", \"41 - 45\", \"46 - 65\"]:\n",
        "    age_filter = (takeaway_df['age'] >= int(age_range[:2])) & (takeaway_df['age'] <= int(age_range[-2:]))\n",
        "    marital_filter = (takeaway_df['marital_status'] == 'single')\n",
        "    prof_filter = (takeaway_df['professional_status'] == 'white collar')\n",
        "\n",
        "    combined_filter = age_filter & marital_filter & children_filter & prof_filter\n",
        "\n",
        "    subset_df = takeaway_df[combined_filter]\n",
        "\n",
        "    total_offered = len(subset_df)\n",
        "    total_accepted = len(subset_df[subset_df['accepted'] == 1])\n",
        "\n",
        "    proportion = total_accepted / total_offered if total_offered > 0 else 0\n",
        "\n",
        "    age_proportions.append((age_range, proportion, total_offered, total_accepted))\n",
        "\n",
        "age_proportions.sort(key=lambda x: x[1], reverse=True)\n",
        "\n",
        "for age_range, proportion, total_offered, total_accepted in age_proportions:\n",
        "    print(f\"age {age_range}\")\n",
        "    print(f\"Total takeaway coupons offered: {total_offered}\")\n",
        "    print(f\"Total takeaway coupons accepted: {total_accepted}\")\n",
        "    print(f\"Proportion of accepted coupons: {proportion:.3f}\\n\")"
      ],
      "metadata": {
        "colab": {
          "base_uri": "https://localhost:8080/"
        },
        "id": "BnAdkm_zJO_X",
        "outputId": "6fd4c7dd-1c0c-4103-f1e6-4cb7a6fb0514"
      },
      "execution_count": 229,
      "outputs": [
        {
          "output_type": "stream",
          "name": "stdout",
          "text": [
            "age 21 - 25\n",
            "Total takeaway coupons offered: 5\n",
            "Total takeaway coupons accepted: 5\n",
            "Proportion of accepted coupons: 1.000\n",
            "\n",
            "age 26 - 30\n",
            "Total takeaway coupons offered: 13\n",
            "Total takeaway coupons accepted: 13\n",
            "Proportion of accepted coupons: 1.000\n",
            "\n",
            "age 31 - 35\n",
            "Total takeaway coupons offered: 3\n",
            "Total takeaway coupons accepted: 3\n",
            "Proportion of accepted coupons: 1.000\n",
            "\n",
            "age 46 - 65\n",
            "Total takeaway coupons offered: 15\n",
            "Total takeaway coupons accepted: 13\n",
            "Proportion of accepted coupons: 0.867\n",
            "\n",
            "age 36 - 40\n",
            "Total takeaway coupons offered: 5\n",
            "Total takeaway coupons accepted: 3\n",
            "Proportion of accepted coupons: 0.600\n",
            "\n",
            "age 41 - 45\n",
            "Total takeaway coupons offered: 16\n",
            "Total takeaway coupons accepted: 9\n",
            "Proportion of accepted coupons: 0.562\n",
            "\n",
            "age 16 - 20\n",
            "Total takeaway coupons offered: 0\n",
            "Total takeaway coupons accepted: 0\n",
            "Proportion of accepted coupons: 0.000\n",
            "\n"
          ]
        }
      ]
    },
    {
      "cell_type": "code",
      "source": [
        "import matplotlib.pyplot as plt\n",
        "import seaborn as sns\n",
        "import pandas as pd\n",
        "\n",
        "# Data for the age groups\n",
        "groups = ['age 21-25', 'age 26-30', 'age 31-35', 'age 46-65', 'age 36-40', 'age 41-45', 'age 16-20']\n",
        "proportions = [1.000, 1.000, 1.000, 0.867, 0.600, 0.562, 0.000]\n",
        "\n",
        "# Creating a DataFrame with the age group data\n",
        "df = pd.DataFrame({'Group': groups, 'Proportion Accepted': proportions})\n",
        "\n",
        "# Plotting\n",
        "plt.figure(figsize=(10, 6))  # Adjust size as needed\n",
        "barplot = sns.barplot(x='Group', y='Proportion Accepted', data=df, hue='Group', palette=\"dark\")\n",
        "plt.title('Proportion of Takeaway Coupons Accepted by Age Group')\n",
        "plt.xticks(rotation=45, ha=\"right\")\n",
        "\n",
        "# Adding the text on the bars\n",
        "for p in barplot.patches:\n",
        "    barplot.annotate(format(p.get_height(), '.3f'),\n",
        "                     (p.get_x() + p.get_width() / 2., p.get_height()),\n",
        "                     ha = 'center', va = 'center',\n",
        "                     size=9,\n",
        "                     xytext = (0, 9),\n",
        "                     textcoords = 'offset points')\n",
        "\n",
        "plt.tight_layout()\n",
        "\n",
        "plt.savefig('images/age_group_proportion_accepted_chart.png')  # Uncomment to save the figure\n",
        "\n",
        "plt.show()\n"
      ],
      "metadata": {
        "colab": {
          "base_uri": "https://localhost:8080/",
          "height": 408
        },
        "id": "N-jgNEcKm7VN",
        "outputId": "98bdd910-4e60-4605-c9ad-0d6825d749c9"
      },
      "execution_count": 230,
      "outputs": [
        {
          "output_type": "display_data",
          "data": {
            "text/plain": [
              "<Figure size 1000x600 with 1 Axes>"
            ],
            "image/png": "[encoded data removed]"
          },
          "metadata": {}
        }
      ]
    }
  ],
  "metadata": {
    "kernelspec": {
      "display_name": "Python 3",
      "name": "python3"
    },
    "language_info": {
      "codemirror_mode": {
        "name": "ipython",
        "version": 3
      },
      "file_extension": ".py",
      "mimetype": "text/x-python",
      "name": "python",
      "nbconvert_exporter": "python",
      "pygments_lexer": "ipython3",
      "version": "3.8.8"
    },
    "colab": {
      "provenance": [],
      "history_visible": true,
      "include_colab_link": true
    }
  },
  "nbformat": 4,
  "nbformat_minor": 0
}